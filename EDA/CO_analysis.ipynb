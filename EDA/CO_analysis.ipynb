{
 "cells": [
  {
   "cell_type": "markdown",
   "metadata": {},
   "source": [
    "#### Library"
   ]
  },
  {
   "cell_type": "code",
   "execution_count": 1,
   "metadata": {},
   "outputs": [],
   "source": [
    "import pandas as pd"
   ]
  },
  {
   "cell_type": "markdown",
   "metadata": {},
   "source": [
    "#### Import Data and Set Parameter"
   ]
  },
  {
   "cell_type": "code",
   "execution_count": 2,
   "metadata": {},
   "outputs": [],
   "source": [
    "df = pd.read_csv(\"complete_data_sorted.csv\")\n",
    "particle = 'CO_Measurement'"
   ]
  },
  {
   "cell_type": "markdown",
   "metadata": {},
   "source": [
    "#### Functions"
   ]
  },
  {
   "cell_type": "code",
   "execution_count": 3,
   "metadata": {},
   "outputs": [],
   "source": [
    "def create_particle_df(df, target):\n",
    "    temp = df[df[target].notnull() | df['PM_Measurement'].notnull()]\n",
    "    col = ['Year', 'Date', 'Time', 'AQS_Code', 'Method Name', target, 'PM_Measurement']\n",
    "    target_pm = temp[col].copy()\n",
    "    \n",
    "    target_pm['datetime'] = pd.to_datetime(target_pm['Date'] + ' ' + target_pm['Time'])\n",
    "    target_pm.set_index('datetime', inplace=True)\n",
    "    result = target_pm.drop(['Year','Date', 'Time'], axis=1)\n",
    "\n",
    "    return result\n",
    "\n",
    "def method_count_per_particle(df):\n",
    "    temp = df.drop(['PM_Measurement'], axis=1)\n",
    "    temp = temp.dropna()\n",
    "    \n",
    "    print(temp['Method Name'].value_counts())"
   ]
  },
  {
   "cell_type": "markdown",
   "metadata": {},
   "source": [
    "#### Get DataFrame where PM OR Particle is not null"
   ]
  },
  {
   "cell_type": "code",
   "execution_count": 4,
   "metadata": {},
   "outputs": [
    {
     "data": {
      "text/html": [
       "<div>\n",
       "<style scoped>\n",
       "    .dataframe tbody tr th:only-of-type {\n",
       "        vertical-align: middle;\n",
       "    }\n",
       "\n",
       "    .dataframe tbody tr th {\n",
       "        vertical-align: top;\n",
       "    }\n",
       "\n",
       "    .dataframe thead th {\n",
       "        text-align: right;\n",
       "    }\n",
       "</style>\n",
       "<table border=\"1\" class=\"dataframe\">\n",
       "  <thead>\n",
       "    <tr style=\"text-align: right;\">\n",
       "      <th></th>\n",
       "      <th>AQS_Code</th>\n",
       "      <th>Method Name</th>\n",
       "      <th>CO_Measurement</th>\n",
       "      <th>PM_Measurement</th>\n",
       "    </tr>\n",
       "    <tr>\n",
       "      <th>datetime</th>\n",
       "      <th></th>\n",
       "      <th></th>\n",
       "      <th></th>\n",
       "      <th></th>\n",
       "    </tr>\n",
       "  </thead>\n",
       "  <tbody>\n",
       "    <tr>\n",
       "      <th>2015-01-01 08:00:00</th>\n",
       "      <td>1103</td>\n",
       "      <td>INSTRUMENTAL - NONDISPERSIVE INFRARED PHOTOMETRY</td>\n",
       "      <td>1.300</td>\n",
       "      <td>NaN</td>\n",
       "    </tr>\n",
       "    <tr>\n",
       "      <th>2015-01-01 08:00:00</th>\n",
       "      <td>1103</td>\n",
       "      <td>INSTRUMENTAL - Gas Filter Correlation Teledyne...</td>\n",
       "      <td>1.024</td>\n",
       "      <td>NaN</td>\n",
       "    </tr>\n",
       "    <tr>\n",
       "      <th>2015-01-01 08:00:00</th>\n",
       "      <td>1103</td>\n",
       "      <td>Met-one BAM-1020 W/PM2.5 SCC - Beta Attenuation</td>\n",
       "      <td>NaN</td>\n",
       "      <td>46.0</td>\n",
       "    </tr>\n",
       "    <tr>\n",
       "      <th>2015-01-01 08:00:00</th>\n",
       "      <td>1201</td>\n",
       "      <td>INSTRUMENTAL - NONDISPERSIVE INFRARED PHOTOMETRY</td>\n",
       "      <td>1.800</td>\n",
       "      <td>NaN</td>\n",
       "    </tr>\n",
       "    <tr>\n",
       "      <th>2015-01-01 08:00:00</th>\n",
       "      <td>1201</td>\n",
       "      <td>Met-One BAM-1020 W/PM2.5 SCC - Beta Attenuation</td>\n",
       "      <td>NaN</td>\n",
       "      <td>95.0</td>\n",
       "    </tr>\n",
       "    <tr>\n",
       "      <th>...</th>\n",
       "      <td>...</td>\n",
       "      <td>...</td>\n",
       "      <td>...</td>\n",
       "      <td>...</td>\n",
       "    </tr>\n",
       "    <tr>\n",
       "      <th>2022-07-01 07:00:00</th>\n",
       "      <td>1103</td>\n",
       "      <td>Met-one BAM-1020 W/PM2.5 SCC - Beta Attenuation</td>\n",
       "      <td>NaN</td>\n",
       "      <td>13.7</td>\n",
       "    </tr>\n",
       "    <tr>\n",
       "      <th>2022-07-01 07:00:00</th>\n",
       "      <td>1201</td>\n",
       "      <td>INSTRUMENTAL - NONDISPERSIVE INFRARED PHOTOMETRY</td>\n",
       "      <td>0.300</td>\n",
       "      <td>NaN</td>\n",
       "    </tr>\n",
       "    <tr>\n",
       "      <th>2022-07-01 07:00:00</th>\n",
       "      <td>1201</td>\n",
       "      <td>Met-One BAM-1020 W/PM2.5 SCC - Beta Attenuation</td>\n",
       "      <td>NaN</td>\n",
       "      <td>15.4</td>\n",
       "    </tr>\n",
       "    <tr>\n",
       "      <th>2022-07-01 07:00:00</th>\n",
       "      <td>1602</td>\n",
       "      <td>INSTRUMENTAL - NONDISPERSIVE INFRARED PHOTOMETRY</td>\n",
       "      <td>0.200</td>\n",
       "      <td>NaN</td>\n",
       "    </tr>\n",
       "    <tr>\n",
       "      <th>2022-07-01 07:00:00</th>\n",
       "      <td>2005</td>\n",
       "      <td>INSTRUMENTAL - NONDISPERSIVE INFRARED PHOTOMETRY</td>\n",
       "      <td>0.300</td>\n",
       "      <td>NaN</td>\n",
       "    </tr>\n",
       "  </tbody>\n",
       "</table>\n",
       "<p>423824 rows × 4 columns</p>\n",
       "</div>"
      ],
      "text/plain": [
       "                     AQS_Code  \\\n",
       "datetime                        \n",
       "2015-01-01 08:00:00      1103   \n",
       "2015-01-01 08:00:00      1103   \n",
       "2015-01-01 08:00:00      1103   \n",
       "2015-01-01 08:00:00      1201   \n",
       "2015-01-01 08:00:00      1201   \n",
       "...                       ...   \n",
       "2022-07-01 07:00:00      1103   \n",
       "2022-07-01 07:00:00      1201   \n",
       "2022-07-01 07:00:00      1201   \n",
       "2022-07-01 07:00:00      1602   \n",
       "2022-07-01 07:00:00      2005   \n",
       "\n",
       "                                                           Method Name  \\\n",
       "datetime                                                                 \n",
       "2015-01-01 08:00:00   INSTRUMENTAL - NONDISPERSIVE INFRARED PHOTOMETRY   \n",
       "2015-01-01 08:00:00  INSTRUMENTAL - Gas Filter Correlation Teledyne...   \n",
       "2015-01-01 08:00:00    Met-one BAM-1020 W/PM2.5 SCC - Beta Attenuation   \n",
       "2015-01-01 08:00:00   INSTRUMENTAL - NONDISPERSIVE INFRARED PHOTOMETRY   \n",
       "2015-01-01 08:00:00    Met-One BAM-1020 W/PM2.5 SCC - Beta Attenuation   \n",
       "...                                                                ...   \n",
       "2022-07-01 07:00:00    Met-one BAM-1020 W/PM2.5 SCC - Beta Attenuation   \n",
       "2022-07-01 07:00:00   INSTRUMENTAL - NONDISPERSIVE INFRARED PHOTOMETRY   \n",
       "2022-07-01 07:00:00    Met-One BAM-1020 W/PM2.5 SCC - Beta Attenuation   \n",
       "2022-07-01 07:00:00   INSTRUMENTAL - NONDISPERSIVE INFRARED PHOTOMETRY   \n",
       "2022-07-01 07:00:00   INSTRUMENTAL - NONDISPERSIVE INFRARED PHOTOMETRY   \n",
       "\n",
       "                     CO_Measurement  PM_Measurement  \n",
       "datetime                                             \n",
       "2015-01-01 08:00:00           1.300             NaN  \n",
       "2015-01-01 08:00:00           1.024             NaN  \n",
       "2015-01-01 08:00:00             NaN            46.0  \n",
       "2015-01-01 08:00:00           1.800             NaN  \n",
       "2015-01-01 08:00:00             NaN            95.0  \n",
       "...                             ...             ...  \n",
       "2022-07-01 07:00:00             NaN            13.7  \n",
       "2022-07-01 07:00:00           0.300             NaN  \n",
       "2022-07-01 07:00:00             NaN            15.4  \n",
       "2022-07-01 07:00:00           0.200             NaN  \n",
       "2022-07-01 07:00:00           0.300             NaN  \n",
       "\n",
       "[423824 rows x 4 columns]"
      ]
     },
     "execution_count": 4,
     "metadata": {},
     "output_type": "execute_result"
    }
   ],
   "source": [
    "a = create_particle_df(df, particle)\n",
    "a"
   ]
  },
  {
   "cell_type": "markdown",
   "metadata": {},
   "source": [
    "#### Given particle, get number of occurances per method"
   ]
  },
  {
   "cell_type": "code",
   "execution_count": 5,
   "metadata": {},
   "outputs": [
    {
     "name": "stdout",
     "output_type": "stream",
     "text": [
      "INSTRUMENTAL - NONDISPERSIVE INFRARED PHOTOMETRY                 253921\n",
      "INSTRUMENTAL - Gas Filter Correlation Teledyne API 300 EU         32775\n",
      "INSTRUMENTAL - Gas Filter Correlation Thermo Electron 48i-TLE     11409\n",
      "Name: Method Name, dtype: int64\n"
     ]
    }
   ],
   "source": [
    "method_count_per_particle(a)"
   ]
  },
  {
   "cell_type": "code",
   "execution_count": 6,
   "metadata": {},
   "outputs": [
    {
     "data": {
      "text/html": [
       "<div>\n",
       "<style scoped>\n",
       "    .dataframe tbody tr th:only-of-type {\n",
       "        vertical-align: middle;\n",
       "    }\n",
       "\n",
       "    .dataframe tbody tr th {\n",
       "        vertical-align: top;\n",
       "    }\n",
       "\n",
       "    .dataframe thead th {\n",
       "        text-align: right;\n",
       "    }\n",
       "</style>\n",
       "<table border=\"1\" class=\"dataframe\">\n",
       "  <thead>\n",
       "    <tr style=\"text-align: right;\">\n",
       "      <th></th>\n",
       "      <th>AQS_Code</th>\n",
       "      <th>CO_Measurement</th>\n",
       "      <th>PM_Measurement</th>\n",
       "    </tr>\n",
       "  </thead>\n",
       "  <tbody>\n",
       "    <tr>\n",
       "      <th>count</th>\n",
       "      <td>253921.000000</td>\n",
       "      <td>253921.000000</td>\n",
       "      <td>0.0</td>\n",
       "    </tr>\n",
       "    <tr>\n",
       "      <th>mean</th>\n",
       "      <td>1477.994931</td>\n",
       "      <td>0.404660</td>\n",
       "      <td>NaN</td>\n",
       "    </tr>\n",
       "    <tr>\n",
       "      <th>std</th>\n",
       "      <td>357.827257</td>\n",
       "      <td>0.288723</td>\n",
       "      <td>NaN</td>\n",
       "    </tr>\n",
       "    <tr>\n",
       "      <th>min</th>\n",
       "      <td>1103.000000</td>\n",
       "      <td>-0.400000</td>\n",
       "      <td>NaN</td>\n",
       "    </tr>\n",
       "    <tr>\n",
       "      <th>25%</th>\n",
       "      <td>1103.000000</td>\n",
       "      <td>0.200000</td>\n",
       "      <td>NaN</td>\n",
       "    </tr>\n",
       "    <tr>\n",
       "      <th>50%</th>\n",
       "      <td>1201.000000</td>\n",
       "      <td>0.300000</td>\n",
       "      <td>NaN</td>\n",
       "    </tr>\n",
       "    <tr>\n",
       "      <th>75%</th>\n",
       "      <td>2005.000000</td>\n",
       "      <td>0.500000</td>\n",
       "      <td>NaN</td>\n",
       "    </tr>\n",
       "    <tr>\n",
       "      <th>max</th>\n",
       "      <td>2005.000000</td>\n",
       "      <td>3.400000</td>\n",
       "      <td>NaN</td>\n",
       "    </tr>\n",
       "  </tbody>\n",
       "</table>\n",
       "</div>"
      ],
      "text/plain": [
       "            AQS_Code  CO_Measurement  PM_Measurement\n",
       "count  253921.000000   253921.000000             0.0\n",
       "mean     1477.994931        0.404660             NaN\n",
       "std       357.827257        0.288723             NaN\n",
       "min      1103.000000       -0.400000             NaN\n",
       "25%      1103.000000        0.200000             NaN\n",
       "50%      1201.000000        0.300000             NaN\n",
       "75%      2005.000000        0.500000             NaN\n",
       "max      2005.000000        3.400000             NaN"
      ]
     },
     "execution_count": 6,
     "metadata": {},
     "output_type": "execute_result"
    }
   ],
   "source": [
    "a[a['Method Name']=='INSTRUMENTAL - NONDISPERSIVE INFRARED PHOTOMETRY'].describe()"
   ]
  },
  {
   "cell_type": "code",
   "execution_count": 7,
   "metadata": {},
   "outputs": [
    {
     "data": {
      "text/html": [
       "<div>\n",
       "<style scoped>\n",
       "    .dataframe tbody tr th:only-of-type {\n",
       "        vertical-align: middle;\n",
       "    }\n",
       "\n",
       "    .dataframe tbody tr th {\n",
       "        vertical-align: top;\n",
       "    }\n",
       "\n",
       "    .dataframe thead th {\n",
       "        text-align: right;\n",
       "    }\n",
       "</style>\n",
       "<table border=\"1\" class=\"dataframe\">\n",
       "  <thead>\n",
       "    <tr style=\"text-align: right;\">\n",
       "      <th></th>\n",
       "      <th>AQS_Code</th>\n",
       "      <th>CO_Measurement</th>\n",
       "      <th>PM_Measurement</th>\n",
       "    </tr>\n",
       "  </thead>\n",
       "  <tbody>\n",
       "    <tr>\n",
       "      <th>count</th>\n",
       "      <td>32775.0</td>\n",
       "      <td>32775.000000</td>\n",
       "      <td>0.0</td>\n",
       "    </tr>\n",
       "    <tr>\n",
       "      <th>mean</th>\n",
       "      <td>1103.0</td>\n",
       "      <td>0.393937</td>\n",
       "      <td>NaN</td>\n",
       "    </tr>\n",
       "    <tr>\n",
       "      <th>std</th>\n",
       "      <td>0.0</td>\n",
       "      <td>0.274503</td>\n",
       "      <td>NaN</td>\n",
       "    </tr>\n",
       "    <tr>\n",
       "      <th>min</th>\n",
       "      <td>1103.0</td>\n",
       "      <td>0.000000</td>\n",
       "      <td>NaN</td>\n",
       "    </tr>\n",
       "    <tr>\n",
       "      <th>25%</th>\n",
       "      <td>1103.0</td>\n",
       "      <td>0.202000</td>\n",
       "      <td>NaN</td>\n",
       "    </tr>\n",
       "    <tr>\n",
       "      <th>50%</th>\n",
       "      <td>1103.0</td>\n",
       "      <td>0.293000</td>\n",
       "      <td>NaN</td>\n",
       "    </tr>\n",
       "    <tr>\n",
       "      <th>75%</th>\n",
       "      <td>1103.0</td>\n",
       "      <td>0.495000</td>\n",
       "      <td>NaN</td>\n",
       "    </tr>\n",
       "    <tr>\n",
       "      <th>max</th>\n",
       "      <td>1103.0</td>\n",
       "      <td>2.000000</td>\n",
       "      <td>NaN</td>\n",
       "    </tr>\n",
       "  </tbody>\n",
       "</table>\n",
       "</div>"
      ],
      "text/plain": [
       "       AQS_Code  CO_Measurement  PM_Measurement\n",
       "count   32775.0    32775.000000             0.0\n",
       "mean     1103.0        0.393937             NaN\n",
       "std         0.0        0.274503             NaN\n",
       "min      1103.0        0.000000             NaN\n",
       "25%      1103.0        0.202000             NaN\n",
       "50%      1103.0        0.293000             NaN\n",
       "75%      1103.0        0.495000             NaN\n",
       "max      1103.0        2.000000             NaN"
      ]
     },
     "execution_count": 7,
     "metadata": {},
     "output_type": "execute_result"
    }
   ],
   "source": [
    "a[a['Method Name']=='INSTRUMENTAL - Gas Filter Correlation Teledyne API 300 EU'].describe()"
   ]
  },
  {
   "cell_type": "code",
   "execution_count": 8,
   "metadata": {},
   "outputs": [
    {
     "data": {
      "text/html": [
       "<div>\n",
       "<style scoped>\n",
       "    .dataframe tbody tr th:only-of-type {\n",
       "        vertical-align: middle;\n",
       "    }\n",
       "\n",
       "    .dataframe tbody tr th {\n",
       "        vertical-align: top;\n",
       "    }\n",
       "\n",
       "    .dataframe thead th {\n",
       "        text-align: right;\n",
       "    }\n",
       "</style>\n",
       "<table border=\"1\" class=\"dataframe\">\n",
       "  <thead>\n",
       "    <tr style=\"text-align: right;\">\n",
       "      <th></th>\n",
       "      <th>AQS_Code</th>\n",
       "      <th>CO_Measurement</th>\n",
       "      <th>PM_Measurement</th>\n",
       "    </tr>\n",
       "  </thead>\n",
       "  <tbody>\n",
       "    <tr>\n",
       "      <th>count</th>\n",
       "      <td>11409.0</td>\n",
       "      <td>11409.000000</td>\n",
       "      <td>0.0</td>\n",
       "    </tr>\n",
       "    <tr>\n",
       "      <th>mean</th>\n",
       "      <td>1103.0</td>\n",
       "      <td>0.416195</td>\n",
       "      <td>NaN</td>\n",
       "    </tr>\n",
       "    <tr>\n",
       "      <th>std</th>\n",
       "      <td>0.0</td>\n",
       "      <td>0.261316</td>\n",
       "      <td>NaN</td>\n",
       "    </tr>\n",
       "    <tr>\n",
       "      <th>min</th>\n",
       "      <td>1103.0</td>\n",
       "      <td>-0.046000</td>\n",
       "      <td>NaN</td>\n",
       "    </tr>\n",
       "    <tr>\n",
       "      <th>25%</th>\n",
       "      <td>1103.0</td>\n",
       "      <td>0.231000</td>\n",
       "      <td>NaN</td>\n",
       "    </tr>\n",
       "    <tr>\n",
       "      <th>50%</th>\n",
       "      <td>1103.0</td>\n",
       "      <td>0.320000</td>\n",
       "      <td>NaN</td>\n",
       "    </tr>\n",
       "    <tr>\n",
       "      <th>75%</th>\n",
       "      <td>1103.0</td>\n",
       "      <td>0.523000</td>\n",
       "      <td>NaN</td>\n",
       "    </tr>\n",
       "    <tr>\n",
       "      <th>max</th>\n",
       "      <td>1103.0</td>\n",
       "      <td>1.922000</td>\n",
       "      <td>NaN</td>\n",
       "    </tr>\n",
       "  </tbody>\n",
       "</table>\n",
       "</div>"
      ],
      "text/plain": [
       "       AQS_Code  CO_Measurement  PM_Measurement\n",
       "count   11409.0    11409.000000             0.0\n",
       "mean     1103.0        0.416195             NaN\n",
       "std         0.0        0.261316             NaN\n",
       "min      1103.0       -0.046000             NaN\n",
       "25%      1103.0        0.231000             NaN\n",
       "50%      1103.0        0.320000             NaN\n",
       "75%      1103.0        0.523000             NaN\n",
       "max      1103.0        1.922000             NaN"
      ]
     },
     "execution_count": 8,
     "metadata": {},
     "output_type": "execute_result"
    }
   ],
   "source": [
    "a[a['Method Name']=='INSTRUMENTAL - Gas Filter Correlation Thermo Electron 48i-TLE'].describe()"
   ]
  },
  {
   "cell_type": "code",
   "execution_count": 9,
   "metadata": {},
   "outputs": [],
   "source": [
    "a_1103=a.loc[a['AQS_Code']==1103]\n"
   ]
  },
  {
   "cell_type": "code",
   "execution_count": 10,
   "metadata": {},
   "outputs": [],
   "source": [
    "aggregation_functions = {'CO_Measurement': 'mean', 'PM_Measurement':'mean'}\n",
    "a_1103_new = a_1103.groupby(a_1103.index).aggregate(aggregation_functions)\n"
   ]
  },
  {
   "cell_type": "code",
   "execution_count": 11,
   "metadata": {},
   "outputs": [
    {
     "data": {
      "text/html": [
       "<div>\n",
       "<style scoped>\n",
       "    .dataframe tbody tr th:only-of-type {\n",
       "        vertical-align: middle;\n",
       "    }\n",
       "\n",
       "    .dataframe tbody tr th {\n",
       "        vertical-align: top;\n",
       "    }\n",
       "\n",
       "    .dataframe thead th {\n",
       "        text-align: right;\n",
       "    }\n",
       "</style>\n",
       "<table border=\"1\" class=\"dataframe\">\n",
       "  <thead>\n",
       "    <tr style=\"text-align: right;\">\n",
       "      <th></th>\n",
       "      <th>CO_Measurement</th>\n",
       "      <th>PM_Measurement</th>\n",
       "    </tr>\n",
       "    <tr>\n",
       "      <th>datetime</th>\n",
       "      <th></th>\n",
       "      <th></th>\n",
       "    </tr>\n",
       "  </thead>\n",
       "  <tbody>\n",
       "    <tr>\n",
       "      <th>2015-01-01 08:00:00</th>\n",
       "      <td>1.1620</td>\n",
       "      <td>46.0</td>\n",
       "    </tr>\n",
       "    <tr>\n",
       "      <th>2015-01-01 09:00:00</th>\n",
       "      <td>1.3475</td>\n",
       "      <td>59.0</td>\n",
       "    </tr>\n",
       "    <tr>\n",
       "      <th>2015-01-01 10:00:00</th>\n",
       "      <td>1.2735</td>\n",
       "      <td>66.0</td>\n",
       "    </tr>\n",
       "    <tr>\n",
       "      <th>2015-01-01 11:00:00</th>\n",
       "      <td>NaN</td>\n",
       "      <td>54.0</td>\n",
       "    </tr>\n",
       "    <tr>\n",
       "      <th>2015-01-01 12:00:00</th>\n",
       "      <td>0.8810</td>\n",
       "      <td>50.0</td>\n",
       "    </tr>\n",
       "    <tr>\n",
       "      <th>...</th>\n",
       "      <td>...</td>\n",
       "      <td>...</td>\n",
       "    </tr>\n",
       "    <tr>\n",
       "      <th>2022-07-01 03:00:00</th>\n",
       "      <td>0.2650</td>\n",
       "      <td>13.5</td>\n",
       "    </tr>\n",
       "    <tr>\n",
       "      <th>2022-07-01 04:00:00</th>\n",
       "      <td>0.2835</td>\n",
       "      <td>13.2</td>\n",
       "    </tr>\n",
       "    <tr>\n",
       "      <th>2022-07-01 05:00:00</th>\n",
       "      <td>0.2735</td>\n",
       "      <td>11.8</td>\n",
       "    </tr>\n",
       "    <tr>\n",
       "      <th>2022-07-01 06:00:00</th>\n",
       "      <td>0.2900</td>\n",
       "      <td>13.2</td>\n",
       "    </tr>\n",
       "    <tr>\n",
       "      <th>2022-07-01 07:00:00</th>\n",
       "      <td>0.2965</td>\n",
       "      <td>13.7</td>\n",
       "    </tr>\n",
       "  </tbody>\n",
       "</table>\n",
       "<p>65579 rows × 2 columns</p>\n",
       "</div>"
      ],
      "text/plain": [
       "                     CO_Measurement  PM_Measurement\n",
       "datetime                                           \n",
       "2015-01-01 08:00:00          1.1620            46.0\n",
       "2015-01-01 09:00:00          1.3475            59.0\n",
       "2015-01-01 10:00:00          1.2735            66.0\n",
       "2015-01-01 11:00:00             NaN            54.0\n",
       "2015-01-01 12:00:00          0.8810            50.0\n",
       "...                             ...             ...\n",
       "2022-07-01 03:00:00          0.2650            13.5\n",
       "2022-07-01 04:00:00          0.2835            13.2\n",
       "2022-07-01 05:00:00          0.2735            11.8\n",
       "2022-07-01 06:00:00          0.2900            13.2\n",
       "2022-07-01 07:00:00          0.2965            13.7\n",
       "\n",
       "[65579 rows x 2 columns]"
      ]
     },
     "execution_count": 11,
     "metadata": {},
     "output_type": "execute_result"
    }
   ],
   "source": [
    "a_1103_new"
   ]
  },
  {
   "cell_type": "code",
   "execution_count": 12,
   "metadata": {},
   "outputs": [
    {
     "data": {
      "text/plain": [
       "Timestamp('2015-01-01 08:00:00')"
      ]
     },
     "execution_count": 12,
     "metadata": {},
     "output_type": "execute_result"
    }
   ],
   "source": [
    "a_1103_new.index.min()"
   ]
  },
  {
   "cell_type": "code",
   "execution_count": 13,
   "metadata": {},
   "outputs": [
    {
     "data": {
      "text/plain": [
       "Timestamp('2022-07-01 07:00:00')"
      ]
     },
     "execution_count": 13,
     "metadata": {},
     "output_type": "execute_result"
    }
   ],
   "source": [
    "a_1103_new.index.max()"
   ]
  },
  {
   "cell_type": "code",
   "execution_count": 28,
   "metadata": {},
   "outputs": [
    {
     "name": "stdout",
     "output_type": "stream",
     "text": [
      "0\n"
     ]
    }
   ],
   "source": [
    "##Finding the missing number of Timestamps\n",
    "expected = set(pd.date_range('2015-01-01 08:00:00', '2022-07-01 07:00:00', freq=\"H\"))\n",
    "actual = set(a_1103_new.index.tolist())\n",
    "diff = expected.difference(actual)\n",
    "print(len(diff))"
   ]
  },
  {
   "cell_type": "code",
   "execution_count": 15,
   "metadata": {},
   "outputs": [],
   "source": [
    "#Resampling them\n",
    "a_1103_new = a_1103_new.resample('1H', ).asfreq()"
   ]
  },
  {
   "cell_type": "code",
   "execution_count": 30,
   "metadata": {},
   "outputs": [
    {
     "data": {
      "text/plain": [
       "0"
      ]
     },
     "execution_count": 30,
     "metadata": {},
     "output_type": "execute_result"
    }
   ],
   "source": [
    "a_1103_new['CO_Measurement'].isna().sum()"
   ]
  },
  {
   "cell_type": "code",
   "execution_count": 17,
   "metadata": {},
   "outputs": [],
   "source": [
    "a_1103_new=a_1103_new.ffill(axis = 0) #Forward Rolling\n"
   ]
  },
  {
   "cell_type": "code",
   "execution_count": 18,
   "metadata": {},
   "outputs": [],
   "source": [
    "a_1103_new ['AQS_Code']=1103"
   ]
  },
  {
   "cell_type": "code",
   "execution_count": 19,
   "metadata": {},
   "outputs": [],
   "source": [
    "a_1201=a.loc[a['AQS_Code']==1201]\n",
    "a_1201_new = a_1201.groupby(a_1201.index).aggregate(aggregation_functions)\n"
   ]
  },
  {
   "cell_type": "code",
   "execution_count": 20,
   "metadata": {},
   "outputs": [
    {
     "data": {
      "text/plain": [
       "Timestamp('2015-01-01 08:00:00')"
      ]
     },
     "execution_count": 20,
     "metadata": {},
     "output_type": "execute_result"
    }
   ],
   "source": [
    "a_1201_new.index.min()"
   ]
  },
  {
   "cell_type": "code",
   "execution_count": 21,
   "metadata": {},
   "outputs": [
    {
     "data": {
      "text/plain": [
       "Timestamp('2022-07-01 07:00:00')"
      ]
     },
     "execution_count": 21,
     "metadata": {},
     "output_type": "execute_result"
    }
   ],
   "source": [
    "a_1201_new.index.max()"
   ]
  },
  {
   "cell_type": "code",
   "execution_count": 29,
   "metadata": {},
   "outputs": [
    {
     "name": "stdout",
     "output_type": "stream",
     "text": [
      "0\n"
     ]
    }
   ],
   "source": [
    "expected = set(pd.date_range('2015-01-01 08:00:00', '2022-07-01 07:00:00', freq=\"H\"))\n",
    "actual = set(a_1201_new.index.tolist())\n",
    "diff = expected.difference(actual)\n",
    "print(len(diff))"
   ]
  },
  {
   "cell_type": "code",
   "execution_count": null,
   "metadata": {},
   "outputs": [
    {
     "name": "stdout",
     "output_type": "stream",
     "text": [
      "0\n"
     ]
    }
   ],
   "source": [
    "expected = set(pd.date_range('2015-01-01 08:00:00', '2022-07-01 07:00:00', freq=\"H\"))\n",
    "actual = set(a_1201_new.index.tolist())\n",
    "diff = expected.difference(actual)\n",
    "print(len(diff))"
   ]
  },
  {
   "cell_type": "code",
   "execution_count": 23,
   "metadata": {},
   "outputs": [],
   "source": [
    "#Resampling them\n",
    "a_1201_new = a_1201_new.resample('1H').asfreq()"
   ]
  },
  {
   "cell_type": "code",
   "execution_count": 24,
   "metadata": {},
   "outputs": [],
   "source": [
    "a_1201_new=a_1201_new.ffill(axis = 0)"
   ]
  },
  {
   "cell_type": "code",
   "execution_count": 25,
   "metadata": {},
   "outputs": [],
   "source": [
    "a_1201_new ['AQS_Code']=1201"
   ]
  },
  {
   "cell_type": "code",
   "execution_count": 26,
   "metadata": {},
   "outputs": [],
   "source": [
    "CO=a_1103_new.append(a_1201_new)"
   ]
  },
  {
   "cell_type": "code",
   "execution_count": 27,
   "metadata": {},
   "outputs": [
    {
     "data": {
      "text/html": [
       "<div>\n",
       "<style scoped>\n",
       "    .dataframe tbody tr th:only-of-type {\n",
       "        vertical-align: middle;\n",
       "    }\n",
       "\n",
       "    .dataframe tbody tr th {\n",
       "        vertical-align: top;\n",
       "    }\n",
       "\n",
       "    .dataframe thead th {\n",
       "        text-align: right;\n",
       "    }\n",
       "</style>\n",
       "<table border=\"1\" class=\"dataframe\">\n",
       "  <thead>\n",
       "    <tr style=\"text-align: right;\">\n",
       "      <th></th>\n",
       "      <th>CO_Measurement</th>\n",
       "      <th>PM_Measurement</th>\n",
       "      <th>AQS_Code</th>\n",
       "    </tr>\n",
       "    <tr>\n",
       "      <th>datetime</th>\n",
       "      <th></th>\n",
       "      <th></th>\n",
       "      <th></th>\n",
       "    </tr>\n",
       "  </thead>\n",
       "  <tbody>\n",
       "    <tr>\n",
       "      <th>2015-01-01 08:00:00</th>\n",
       "      <td>1.1620</td>\n",
       "      <td>46.0</td>\n",
       "      <td>1103</td>\n",
       "    </tr>\n",
       "    <tr>\n",
       "      <th>2015-01-01 09:00:00</th>\n",
       "      <td>1.3475</td>\n",
       "      <td>59.0</td>\n",
       "      <td>1103</td>\n",
       "    </tr>\n",
       "    <tr>\n",
       "      <th>2015-01-01 10:00:00</th>\n",
       "      <td>1.2735</td>\n",
       "      <td>66.0</td>\n",
       "      <td>1103</td>\n",
       "    </tr>\n",
       "    <tr>\n",
       "      <th>2015-01-01 11:00:00</th>\n",
       "      <td>1.2735</td>\n",
       "      <td>54.0</td>\n",
       "      <td>1103</td>\n",
       "    </tr>\n",
       "    <tr>\n",
       "      <th>2015-01-01 12:00:00</th>\n",
       "      <td>0.8810</td>\n",
       "      <td>50.0</td>\n",
       "      <td>1103</td>\n",
       "    </tr>\n",
       "    <tr>\n",
       "      <th>...</th>\n",
       "      <td>...</td>\n",
       "      <td>...</td>\n",
       "      <td>...</td>\n",
       "    </tr>\n",
       "    <tr>\n",
       "      <th>2022-07-01 03:00:00</th>\n",
       "      <td>0.2000</td>\n",
       "      <td>11.2</td>\n",
       "      <td>1201</td>\n",
       "    </tr>\n",
       "    <tr>\n",
       "      <th>2022-07-01 04:00:00</th>\n",
       "      <td>0.3000</td>\n",
       "      <td>13.0</td>\n",
       "      <td>1201</td>\n",
       "    </tr>\n",
       "    <tr>\n",
       "      <th>2022-07-01 05:00:00</th>\n",
       "      <td>0.3000</td>\n",
       "      <td>15.4</td>\n",
       "      <td>1201</td>\n",
       "    </tr>\n",
       "    <tr>\n",
       "      <th>2022-07-01 06:00:00</th>\n",
       "      <td>0.3000</td>\n",
       "      <td>15.9</td>\n",
       "      <td>1201</td>\n",
       "    </tr>\n",
       "    <tr>\n",
       "      <th>2022-07-01 07:00:00</th>\n",
       "      <td>0.3000</td>\n",
       "      <td>15.4</td>\n",
       "      <td>1201</td>\n",
       "    </tr>\n",
       "  </tbody>\n",
       "</table>\n",
       "<p>131424 rows × 3 columns</p>\n",
       "</div>"
      ],
      "text/plain": [
       "                     CO_Measurement  PM_Measurement  AQS_Code\n",
       "datetime                                                     \n",
       "2015-01-01 08:00:00          1.1620            46.0      1103\n",
       "2015-01-01 09:00:00          1.3475            59.0      1103\n",
       "2015-01-01 10:00:00          1.2735            66.0      1103\n",
       "2015-01-01 11:00:00          1.2735            54.0      1103\n",
       "2015-01-01 12:00:00          0.8810            50.0      1103\n",
       "...                             ...             ...       ...\n",
       "2022-07-01 03:00:00          0.2000            11.2      1201\n",
       "2022-07-01 04:00:00          0.3000            13.0      1201\n",
       "2022-07-01 05:00:00          0.3000            15.4      1201\n",
       "2022-07-01 06:00:00          0.3000            15.9      1201\n",
       "2022-07-01 07:00:00          0.3000            15.4      1201\n",
       "\n",
       "[131424 rows x 3 columns]"
      ]
     },
     "execution_count": 27,
     "metadata": {},
     "output_type": "execute_result"
    }
   ],
   "source": [
    "CO"
   ]
  },
  {
   "cell_type": "code",
   "execution_count": 31,
   "metadata": {},
   "outputs": [],
   "source": [
    "CO.to_csv('CO.csv')"
   ]
  }
 ],
 "metadata": {
  "kernelspec": {
   "display_name": "base",
   "language": "python",
   "name": "python3"
  },
  "language_info": {
   "codemirror_mode": {
    "name": "ipython",
    "version": 3
   },
   "file_extension": ".py",
   "mimetype": "text/x-python",
   "name": "python",
   "nbconvert_exporter": "python",
   "pygments_lexer": "ipython3",
   "version": "3.9.6"
  }
 },
 "nbformat": 4,
 "nbformat_minor": 2
}
