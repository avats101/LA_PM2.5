{
 "cells": [
  {
   "cell_type": "markdown",
   "metadata": {},
   "source": [
    "#### Library"
   ]
  },
  {
   "cell_type": "code",
   "execution_count": 1,
   "metadata": {},
   "outputs": [],
   "source": [
    "import pandas as pd"
   ]
  },
  {
   "cell_type": "markdown",
   "metadata": {},
   "source": [
    "#### Import Data and Set Parameter"
   ]
  },
  {
   "cell_type": "code",
   "execution_count": 2,
   "metadata": {},
   "outputs": [],
   "source": [
    "df = pd.read_csv(\"complete_data_sorted.csv\")\n",
    "particle = 'RH_Measurement'"
   ]
  },
  {
   "cell_type": "markdown",
   "metadata": {},
   "source": [
    "#### Functions"
   ]
  },
  {
   "cell_type": "code",
   "execution_count": 3,
   "metadata": {},
   "outputs": [],
   "source": [
    "def create_particle_df(df, target):\n",
    "    temp = df[df[target].notnull() | df['PM_Measurement'].notnull()]\n",
    "    col = ['Year', 'Date', 'Time', 'AQS_Code', 'Method Name', target, 'PM_Measurement']\n",
    "    target_pm = temp[col].copy()\n",
    "    \n",
    "    target_pm['datetime'] = pd.to_datetime(target_pm['Date'] + ' ' + target_pm['Time'])\n",
    "    target_pm.set_index('datetime', inplace=True)\n",
    "    result = target_pm.drop(['Year','Date', 'Time'], axis=1)\n",
    "\n",
    "    return result\n",
    "\n",
    "def method_count_per_particle(df):\n",
    "    temp = df.drop(['PM_Measurement'], axis=1)\n",
    "    temp = temp.dropna()\n",
    "    \n",
    "    print(temp['Method Name'].value_counts())"
   ]
  },
  {
   "cell_type": "markdown",
   "metadata": {},
   "source": [
    "#### Get DataFrame where PM OR Particle is not null"
   ]
  },
  {
   "cell_type": "code",
   "execution_count": 4,
   "metadata": {},
   "outputs": [
    {
     "data": {
      "text/html": [
       "<div>\n",
       "<style scoped>\n",
       "    .dataframe tbody tr th:only-of-type {\n",
       "        vertical-align: middle;\n",
       "    }\n",
       "\n",
       "    .dataframe tbody tr th {\n",
       "        vertical-align: top;\n",
       "    }\n",
       "\n",
       "    .dataframe thead th {\n",
       "        text-align: right;\n",
       "    }\n",
       "</style>\n",
       "<table border=\"1\" class=\"dataframe\">\n",
       "  <thead>\n",
       "    <tr style=\"text-align: right;\">\n",
       "      <th></th>\n",
       "      <th>AQS_Code</th>\n",
       "      <th>Method Name</th>\n",
       "      <th>RH_Measurement</th>\n",
       "      <th>PM_Measurement</th>\n",
       "    </tr>\n",
       "    <tr>\n",
       "      <th>datetime</th>\n",
       "      <th></th>\n",
       "      <th></th>\n",
       "      <th></th>\n",
       "      <th></th>\n",
       "    </tr>\n",
       "  </thead>\n",
       "  <tbody>\n",
       "    <tr>\n",
       "      <th>2015-01-01 08:00:00</th>\n",
       "      <td>1103</td>\n",
       "      <td>Met-one BAM-1020 W/PM2.5 SCC - Beta Attenuation</td>\n",
       "      <td>NaN</td>\n",
       "      <td>46.0</td>\n",
       "    </tr>\n",
       "    <tr>\n",
       "      <th>2015-01-01 08:00:00</th>\n",
       "      <td>1103</td>\n",
       "      <td>Instrumental - Rotronic HC2-S3</td>\n",
       "      <td>49.0</td>\n",
       "      <td>NaN</td>\n",
       "    </tr>\n",
       "    <tr>\n",
       "      <th>2015-01-01 08:00:00</th>\n",
       "      <td>1201</td>\n",
       "      <td>Met-One BAM-1020 W/PM2.5 SCC - Beta Attenuation</td>\n",
       "      <td>NaN</td>\n",
       "      <td>95.0</td>\n",
       "    </tr>\n",
       "    <tr>\n",
       "      <th>2015-01-01 09:00:00</th>\n",
       "      <td>1103</td>\n",
       "      <td>Met-one BAM-1020 W/PM2.5 SCC - Beta Attenuation</td>\n",
       "      <td>NaN</td>\n",
       "      <td>59.0</td>\n",
       "    </tr>\n",
       "    <tr>\n",
       "      <th>2015-01-01 09:00:00</th>\n",
       "      <td>1103</td>\n",
       "      <td>Instrumental - Rotronic HC2-S3</td>\n",
       "      <td>52.0</td>\n",
       "      <td>NaN</td>\n",
       "    </tr>\n",
       "    <tr>\n",
       "      <th>...</th>\n",
       "      <td>...</td>\n",
       "      <td>...</td>\n",
       "      <td>...</td>\n",
       "      <td>...</td>\n",
       "    </tr>\n",
       "    <tr>\n",
       "      <th>2022-07-01 05:00:00</th>\n",
       "      <td>1201</td>\n",
       "      <td>Met-One BAM-1020 W/PM2.5 SCC - Beta Attenuation</td>\n",
       "      <td>NaN</td>\n",
       "      <td>15.4</td>\n",
       "    </tr>\n",
       "    <tr>\n",
       "      <th>2022-07-01 06:00:00</th>\n",
       "      <td>1103</td>\n",
       "      <td>Met-one BAM-1020 W/PM2.5 SCC - Beta Attenuation</td>\n",
       "      <td>NaN</td>\n",
       "      <td>13.2</td>\n",
       "    </tr>\n",
       "    <tr>\n",
       "      <th>2022-07-01 06:00:00</th>\n",
       "      <td>1201</td>\n",
       "      <td>Met-One BAM-1020 W/PM2.5 SCC - Beta Attenuation</td>\n",
       "      <td>NaN</td>\n",
       "      <td>15.9</td>\n",
       "    </tr>\n",
       "    <tr>\n",
       "      <th>2022-07-01 07:00:00</th>\n",
       "      <td>1103</td>\n",
       "      <td>Met-one BAM-1020 W/PM2.5 SCC - Beta Attenuation</td>\n",
       "      <td>NaN</td>\n",
       "      <td>13.7</td>\n",
       "    </tr>\n",
       "    <tr>\n",
       "      <th>2022-07-01 07:00:00</th>\n",
       "      <td>1201</td>\n",
       "      <td>Met-One BAM-1020 W/PM2.5 SCC - Beta Attenuation</td>\n",
       "      <td>NaN</td>\n",
       "      <td>15.4</td>\n",
       "    </tr>\n",
       "  </tbody>\n",
       "</table>\n",
       "<p>284148 rows × 4 columns</p>\n",
       "</div>"
      ],
      "text/plain": [
       "                     AQS_Code  \\\n",
       "datetime                        \n",
       "2015-01-01 08:00:00      1103   \n",
       "2015-01-01 08:00:00      1103   \n",
       "2015-01-01 08:00:00      1201   \n",
       "2015-01-01 09:00:00      1103   \n",
       "2015-01-01 09:00:00      1103   \n",
       "...                       ...   \n",
       "2022-07-01 05:00:00      1201   \n",
       "2022-07-01 06:00:00      1103   \n",
       "2022-07-01 06:00:00      1201   \n",
       "2022-07-01 07:00:00      1103   \n",
       "2022-07-01 07:00:00      1201   \n",
       "\n",
       "                                                         Method Name  \\\n",
       "datetime                                                               \n",
       "2015-01-01 08:00:00  Met-one BAM-1020 W/PM2.5 SCC - Beta Attenuation   \n",
       "2015-01-01 08:00:00                   Instrumental - Rotronic HC2-S3   \n",
       "2015-01-01 08:00:00  Met-One BAM-1020 W/PM2.5 SCC - Beta Attenuation   \n",
       "2015-01-01 09:00:00  Met-one BAM-1020 W/PM2.5 SCC - Beta Attenuation   \n",
       "2015-01-01 09:00:00                   Instrumental - Rotronic HC2-S3   \n",
       "...                                                              ...   \n",
       "2022-07-01 05:00:00  Met-One BAM-1020 W/PM2.5 SCC - Beta Attenuation   \n",
       "2022-07-01 06:00:00  Met-one BAM-1020 W/PM2.5 SCC - Beta Attenuation   \n",
       "2022-07-01 06:00:00  Met-One BAM-1020 W/PM2.5 SCC - Beta Attenuation   \n",
       "2022-07-01 07:00:00  Met-one BAM-1020 W/PM2.5 SCC - Beta Attenuation   \n",
       "2022-07-01 07:00:00  Met-One BAM-1020 W/PM2.5 SCC - Beta Attenuation   \n",
       "\n",
       "                     RH_Measurement  PM_Measurement  \n",
       "datetime                                             \n",
       "2015-01-01 08:00:00             NaN            46.0  \n",
       "2015-01-01 08:00:00            49.0             NaN  \n",
       "2015-01-01 08:00:00             NaN            95.0  \n",
       "2015-01-01 09:00:00             NaN            59.0  \n",
       "2015-01-01 09:00:00            52.0             NaN  \n",
       "...                             ...             ...  \n",
       "2022-07-01 05:00:00             NaN            15.4  \n",
       "2022-07-01 06:00:00             NaN            13.2  \n",
       "2022-07-01 06:00:00             NaN            15.9  \n",
       "2022-07-01 07:00:00             NaN            13.7  \n",
       "2022-07-01 07:00:00             NaN            15.4  \n",
       "\n",
       "[284148 rows x 4 columns]"
      ]
     },
     "execution_count": 4,
     "metadata": {},
     "output_type": "execute_result"
    }
   ],
   "source": [
    "a = create_particle_df(df, particle)\n",
    "a"
   ]
  },
  {
   "cell_type": "markdown",
   "metadata": {},
   "source": [
    "#### Given particle, get number of occurances per method"
   ]
  },
  {
   "cell_type": "code",
   "execution_count": 5,
   "metadata": {},
   "outputs": [
    {
     "name": "stdout",
     "output_type": "stream",
     "text": [
      "Instrumental - Met One 083D       95416\n",
      "Instrumental - Rotronic HC2-S3    63013\n",
      "Name: Method Name, dtype: int64\n"
     ]
    }
   ],
   "source": [
    "method_count_per_particle(a)"
   ]
  },
  {
   "cell_type": "code",
   "execution_count": 6,
   "metadata": {},
   "outputs": [
    {
     "data": {
      "text/html": [
       "<div>\n",
       "<style scoped>\n",
       "    .dataframe tbody tr th:only-of-type {\n",
       "        vertical-align: middle;\n",
       "    }\n",
       "\n",
       "    .dataframe tbody tr th {\n",
       "        vertical-align: top;\n",
       "    }\n",
       "\n",
       "    .dataframe thead th {\n",
       "        text-align: right;\n",
       "    }\n",
       "</style>\n",
       "<table border=\"1\" class=\"dataframe\">\n",
       "  <thead>\n",
       "    <tr style=\"text-align: right;\">\n",
       "      <th></th>\n",
       "      <th>AQS_Code</th>\n",
       "      <th>RH_Measurement</th>\n",
       "      <th>PM_Measurement</th>\n",
       "    </tr>\n",
       "  </thead>\n",
       "  <tbody>\n",
       "    <tr>\n",
       "      <th>count</th>\n",
       "      <td>95416.000000</td>\n",
       "      <td>95416.000000</td>\n",
       "      <td>0.0</td>\n",
       "    </tr>\n",
       "    <tr>\n",
       "      <th>mean</th>\n",
       "      <td>1606.337218</td>\n",
       "      <td>60.104605</td>\n",
       "      <td>NaN</td>\n",
       "    </tr>\n",
       "    <tr>\n",
       "      <th>std</th>\n",
       "      <td>296.865719</td>\n",
       "      <td>24.242855</td>\n",
       "      <td>NaN</td>\n",
       "    </tr>\n",
       "    <tr>\n",
       "      <th>min</th>\n",
       "      <td>1201.000000</td>\n",
       "      <td>1.000000</td>\n",
       "      <td>NaN</td>\n",
       "    </tr>\n",
       "    <tr>\n",
       "      <th>25%</th>\n",
       "      <td>1201.000000</td>\n",
       "      <td>42.000000</td>\n",
       "      <td>NaN</td>\n",
       "    </tr>\n",
       "    <tr>\n",
       "      <th>50%</th>\n",
       "      <td>1602.000000</td>\n",
       "      <td>62.000000</td>\n",
       "      <td>NaN</td>\n",
       "    </tr>\n",
       "    <tr>\n",
       "      <th>75%</th>\n",
       "      <td>2005.000000</td>\n",
       "      <td>80.000000</td>\n",
       "      <td>NaN</td>\n",
       "    </tr>\n",
       "    <tr>\n",
       "      <th>max</th>\n",
       "      <td>2005.000000</td>\n",
       "      <td>100.000000</td>\n",
       "      <td>NaN</td>\n",
       "    </tr>\n",
       "  </tbody>\n",
       "</table>\n",
       "</div>"
      ],
      "text/plain": [
       "           AQS_Code  RH_Measurement  PM_Measurement\n",
       "count  95416.000000    95416.000000             0.0\n",
       "mean    1606.337218       60.104605             NaN\n",
       "std      296.865719       24.242855             NaN\n",
       "min     1201.000000        1.000000             NaN\n",
       "25%     1201.000000       42.000000             NaN\n",
       "50%     1602.000000       62.000000             NaN\n",
       "75%     2005.000000       80.000000             NaN\n",
       "max     2005.000000      100.000000             NaN"
      ]
     },
     "execution_count": 6,
     "metadata": {},
     "output_type": "execute_result"
    }
   ],
   "source": [
    "a[a['Method Name']=='Instrumental - Met One 083D'].describe()"
   ]
  },
  {
   "cell_type": "code",
   "execution_count": 7,
   "metadata": {},
   "outputs": [
    {
     "data": {
      "text/html": [
       "<div>\n",
       "<style scoped>\n",
       "    .dataframe tbody tr th:only-of-type {\n",
       "        vertical-align: middle;\n",
       "    }\n",
       "\n",
       "    .dataframe tbody tr th {\n",
       "        vertical-align: top;\n",
       "    }\n",
       "\n",
       "    .dataframe thead th {\n",
       "        text-align: right;\n",
       "    }\n",
       "</style>\n",
       "<table border=\"1\" class=\"dataframe\">\n",
       "  <thead>\n",
       "    <tr style=\"text-align: right;\">\n",
       "      <th></th>\n",
       "      <th>AQS_Code</th>\n",
       "      <th>RH_Measurement</th>\n",
       "      <th>PM_Measurement</th>\n",
       "    </tr>\n",
       "  </thead>\n",
       "  <tbody>\n",
       "    <tr>\n",
       "      <th>count</th>\n",
       "      <td>63013.000000</td>\n",
       "      <td>63013.000000</td>\n",
       "      <td>0.0</td>\n",
       "    </tr>\n",
       "    <tr>\n",
       "      <th>mean</th>\n",
       "      <td>1154.331503</td>\n",
       "      <td>58.697221</td>\n",
       "      <td>NaN</td>\n",
       "    </tr>\n",
       "    <tr>\n",
       "      <th>std</th>\n",
       "      <td>184.649177</td>\n",
       "      <td>23.142274</td>\n",
       "      <td>NaN</td>\n",
       "    </tr>\n",
       "    <tr>\n",
       "      <th>min</th>\n",
       "      <td>1103.000000</td>\n",
       "      <td>1.000000</td>\n",
       "      <td>NaN</td>\n",
       "    </tr>\n",
       "    <tr>\n",
       "      <th>25%</th>\n",
       "      <td>1103.000000</td>\n",
       "      <td>42.000000</td>\n",
       "      <td>NaN</td>\n",
       "    </tr>\n",
       "    <tr>\n",
       "      <th>50%</th>\n",
       "      <td>1103.000000</td>\n",
       "      <td>61.000000</td>\n",
       "      <td>NaN</td>\n",
       "    </tr>\n",
       "    <tr>\n",
       "      <th>75%</th>\n",
       "      <td>1103.000000</td>\n",
       "      <td>78.000000</td>\n",
       "      <td>NaN</td>\n",
       "    </tr>\n",
       "    <tr>\n",
       "      <th>max</th>\n",
       "      <td>2005.000000</td>\n",
       "      <td>100.000000</td>\n",
       "      <td>NaN</td>\n",
       "    </tr>\n",
       "  </tbody>\n",
       "</table>\n",
       "</div>"
      ],
      "text/plain": [
       "           AQS_Code  RH_Measurement  PM_Measurement\n",
       "count  63013.000000    63013.000000             0.0\n",
       "mean    1154.331503       58.697221             NaN\n",
       "std      184.649177       23.142274             NaN\n",
       "min     1103.000000        1.000000             NaN\n",
       "25%     1103.000000       42.000000             NaN\n",
       "50%     1103.000000       61.000000             NaN\n",
       "75%     1103.000000       78.000000             NaN\n",
       "max     2005.000000      100.000000             NaN"
      ]
     },
     "execution_count": 7,
     "metadata": {},
     "output_type": "execute_result"
    }
   ],
   "source": [
    "a[a['Method Name']=='Instrumental - Rotronic HC2-S3'].describe()"
   ]
  },
  {
   "cell_type": "code",
   "execution_count": 6,
   "metadata": {},
   "outputs": [],
   "source": [
    "a_1103=a.loc[a['AQS_Code']==1103]\n"
   ]
  },
  {
   "cell_type": "code",
   "execution_count": 7,
   "metadata": {},
   "outputs": [],
   "source": [
    "aggregation_functions = {'RH_Measurement': 'mean', 'PM_Measurement':'mean'}\n",
    "a_1103_new = a_1103.groupby(a_1103.index).aggregate(aggregation_functions)\n"
   ]
  },
  {
   "cell_type": "code",
   "execution_count": 10,
   "metadata": {},
   "outputs": [
    {
     "data": {
      "text/html": [
       "<div>\n",
       "<style scoped>\n",
       "    .dataframe tbody tr th:only-of-type {\n",
       "        vertical-align: middle;\n",
       "    }\n",
       "\n",
       "    .dataframe tbody tr th {\n",
       "        vertical-align: top;\n",
       "    }\n",
       "\n",
       "    .dataframe thead th {\n",
       "        text-align: right;\n",
       "    }\n",
       "</style>\n",
       "<table border=\"1\" class=\"dataframe\">\n",
       "  <thead>\n",
       "    <tr style=\"text-align: right;\">\n",
       "      <th></th>\n",
       "      <th>RH_Measurement</th>\n",
       "      <th>PM_Measurement</th>\n",
       "    </tr>\n",
       "    <tr>\n",
       "      <th>datetime</th>\n",
       "      <th></th>\n",
       "      <th></th>\n",
       "    </tr>\n",
       "  </thead>\n",
       "  <tbody>\n",
       "    <tr>\n",
       "      <th>2015-01-01 08:00:00</th>\n",
       "      <td>49.0</td>\n",
       "      <td>46.0</td>\n",
       "    </tr>\n",
       "    <tr>\n",
       "      <th>2015-01-01 09:00:00</th>\n",
       "      <td>52.0</td>\n",
       "      <td>59.0</td>\n",
       "    </tr>\n",
       "    <tr>\n",
       "      <th>2015-01-01 10:00:00</th>\n",
       "      <td>55.0</td>\n",
       "      <td>66.0</td>\n",
       "    </tr>\n",
       "    <tr>\n",
       "      <th>2015-01-01 11:00:00</th>\n",
       "      <td>59.0</td>\n",
       "      <td>54.0</td>\n",
       "    </tr>\n",
       "    <tr>\n",
       "      <th>2015-01-01 12:00:00</th>\n",
       "      <td>56.0</td>\n",
       "      <td>50.0</td>\n",
       "    </tr>\n",
       "    <tr>\n",
       "      <th>...</th>\n",
       "      <td>...</td>\n",
       "      <td>...</td>\n",
       "    </tr>\n",
       "    <tr>\n",
       "      <th>2022-07-01 03:00:00</th>\n",
       "      <td>NaN</td>\n",
       "      <td>13.5</td>\n",
       "    </tr>\n",
       "    <tr>\n",
       "      <th>2022-07-01 04:00:00</th>\n",
       "      <td>NaN</td>\n",
       "      <td>13.2</td>\n",
       "    </tr>\n",
       "    <tr>\n",
       "      <th>2022-07-01 05:00:00</th>\n",
       "      <td>NaN</td>\n",
       "      <td>11.8</td>\n",
       "    </tr>\n",
       "    <tr>\n",
       "      <th>2022-07-01 06:00:00</th>\n",
       "      <td>NaN</td>\n",
       "      <td>13.2</td>\n",
       "    </tr>\n",
       "    <tr>\n",
       "      <th>2022-07-01 07:00:00</th>\n",
       "      <td>NaN</td>\n",
       "      <td>13.7</td>\n",
       "    </tr>\n",
       "  </tbody>\n",
       "</table>\n",
       "<p>65427 rows × 2 columns</p>\n",
       "</div>"
      ],
      "text/plain": [
       "                     RH_Measurement  PM_Measurement\n",
       "datetime                                           \n",
       "2015-01-01 08:00:00            49.0            46.0\n",
       "2015-01-01 09:00:00            52.0            59.0\n",
       "2015-01-01 10:00:00            55.0            66.0\n",
       "2015-01-01 11:00:00            59.0            54.0\n",
       "2015-01-01 12:00:00            56.0            50.0\n",
       "...                             ...             ...\n",
       "2022-07-01 03:00:00             NaN            13.5\n",
       "2022-07-01 04:00:00             NaN            13.2\n",
       "2022-07-01 05:00:00             NaN            11.8\n",
       "2022-07-01 06:00:00             NaN            13.2\n",
       "2022-07-01 07:00:00             NaN            13.7\n",
       "\n",
       "[65427 rows x 2 columns]"
      ]
     },
     "execution_count": 10,
     "metadata": {},
     "output_type": "execute_result"
    }
   ],
   "source": [
    "a_1103_new"
   ]
  },
  {
   "cell_type": "code",
   "execution_count": 11,
   "metadata": {},
   "outputs": [
    {
     "data": {
      "text/plain": [
       "Timestamp('2015-01-01 08:00:00')"
      ]
     },
     "execution_count": 11,
     "metadata": {},
     "output_type": "execute_result"
    }
   ],
   "source": [
    "a_1103_new.index.min()"
   ]
  },
  {
   "cell_type": "code",
   "execution_count": 25,
   "metadata": {},
   "outputs": [
    {
     "name": "stdout",
     "output_type": "stream",
     "text": [
      "65712\n"
     ]
    }
   ],
   "source": [
    "print(len(set(pd.date_range('2015-01-01 08:00:00', '2022-07-01 07:00:00', freq=\"H\"))))"
   ]
  },
  {
   "cell_type": "code",
   "execution_count": 12,
   "metadata": {},
   "outputs": [
    {
     "data": {
      "text/plain": [
       "Timestamp('2022-07-01 07:00:00')"
      ]
     },
     "execution_count": 12,
     "metadata": {},
     "output_type": "execute_result"
    }
   ],
   "source": [
    "a_1103_new.index.max()"
   ]
  },
  {
   "cell_type": "code",
   "execution_count": 12,
   "metadata": {},
   "outputs": [
    {
     "name": "stdout",
     "output_type": "stream",
     "text": [
      "0\n"
     ]
    }
   ],
   "source": [
    "##Finding the missing number of Timestamps\n",
    "expected = set(pd.date_range('2015-01-01 08:00:00', '2022-07-01 07:00:00', freq=\"H\"))\n",
    "actual = set(a_1103_new.index.tolist())\n",
    "diff = expected.difference(actual)\n",
    "print(len(diff))"
   ]
  },
  {
   "cell_type": "code",
   "execution_count": 13,
   "metadata": {},
   "outputs": [
    {
     "data": {
      "text/plain": [
       "9170"
      ]
     },
     "execution_count": 13,
     "metadata": {},
     "output_type": "execute_result"
    }
   ],
   "source": [
    "#Find the missing number of values in RH_Measurement\n",
    "sum(pd.isnull(a_1103_new['RH_Measurement']))"
   ]
  },
  {
   "cell_type": "code",
   "execution_count": 11,
   "metadata": {},
   "outputs": [],
   "source": [
    "#Resampling them\n",
    "a_1103_new = a_1103_new.resample('1H', ).asfreq()"
   ]
  },
  {
   "cell_type": "code",
   "execution_count": 16,
   "metadata": {},
   "outputs": [
    {
     "data": {
      "text/plain": [
       "0"
      ]
     },
     "execution_count": 16,
     "metadata": {},
     "output_type": "execute_result"
    }
   ],
   "source": [
    "a_1103_new['RH_Measurement'].isna().sum()"
   ]
  },
  {
   "cell_type": "code",
   "execution_count": 15,
   "metadata": {},
   "outputs": [],
   "source": [
    "a_1103_new=a_1103_new.ffill(axis = 0) #Forward Rolling\n"
   ]
  },
  {
   "cell_type": "code",
   "execution_count": 17,
   "metadata": {},
   "outputs": [],
   "source": [
    "a_1103_new ['AQS_Code']=1103"
   ]
  },
  {
   "cell_type": "code",
   "execution_count": 26,
   "metadata": {},
   "outputs": [],
   "source": [
    "a_1201=a.loc[a['AQS_Code']==1201]\n",
    "a_1201_new = a_1201.groupby(a_1201.index).aggregate(aggregation_functions)\n"
   ]
  },
  {
   "cell_type": "code",
   "execution_count": 19,
   "metadata": {},
   "outputs": [
    {
     "data": {
      "text/plain": [
       "Timestamp('2015-01-01 08:00:00')"
      ]
     },
     "execution_count": 19,
     "metadata": {},
     "output_type": "execute_result"
    }
   ],
   "source": [
    "a_1201_new.index.min()"
   ]
  },
  {
   "cell_type": "code",
   "execution_count": 20,
   "metadata": {},
   "outputs": [
    {
     "data": {
      "text/plain": [
       "Timestamp('2022-07-01 07:00:00')"
      ]
     },
     "execution_count": 20,
     "metadata": {},
     "output_type": "execute_result"
    }
   ],
   "source": [
    "a_1201_new.index.max()"
   ]
  },
  {
   "cell_type": "code",
   "execution_count": 27,
   "metadata": {},
   "outputs": [
    {
     "name": "stdout",
     "output_type": "stream",
     "text": [
      "1762\n"
     ]
    }
   ],
   "source": [
    "expected = set(pd.date_range('2015-01-01 08:00:00', '2022-07-01 07:00:00', freq=\"1H\"))\n",
    "actual = set(a_1201_new.index.tolist())\n",
    "diff = expected.difference(actual)\n",
    "print(len(diff))"
   ]
  },
  {
   "cell_type": "code",
   "execution_count": 36,
   "metadata": {},
   "outputs": [
    {
     "data": {
      "text/plain": [
       "0"
      ]
     },
     "execution_count": 36,
     "metadata": {},
     "output_type": "execute_result"
    }
   ],
   "source": [
    "a_1201_new['RH_Measurement'].isna().sum()"
   ]
  },
  {
   "cell_type": "code",
   "execution_count": 29,
   "metadata": {},
   "outputs": [],
   "source": [
    "#Resampling them\n",
    "a_1201_new = a_1201_new.resample('1H').asfreq()"
   ]
  },
  {
   "cell_type": "code",
   "execution_count": 33,
   "metadata": {},
   "outputs": [],
   "source": [
    "a_1201_new=a_1201_new.ffill(axis = 0)"
   ]
  },
  {
   "cell_type": "code",
   "execution_count": 35,
   "metadata": {},
   "outputs": [],
   "source": [
    "a_1201_new['RH_Measurement'].fillna((a_1201_new['RH_Measurement'].mean()), inplace=True)"
   ]
  },
  {
   "cell_type": "code",
   "execution_count": 37,
   "metadata": {},
   "outputs": [],
   "source": [
    "a_1201_new ['AQS_Code']=1201"
   ]
  },
  {
   "cell_type": "code",
   "execution_count": 38,
   "metadata": {},
   "outputs": [],
   "source": [
    "RH=a_1103_new.append(a_1201_new)"
   ]
  },
  {
   "cell_type": "code",
   "execution_count": 39,
   "metadata": {},
   "outputs": [
    {
     "data": {
      "text/html": [
       "<div>\n",
       "<style scoped>\n",
       "    .dataframe tbody tr th:only-of-type {\n",
       "        vertical-align: middle;\n",
       "    }\n",
       "\n",
       "    .dataframe tbody tr th {\n",
       "        vertical-align: top;\n",
       "    }\n",
       "\n",
       "    .dataframe thead th {\n",
       "        text-align: right;\n",
       "    }\n",
       "</style>\n",
       "<table border=\"1\" class=\"dataframe\">\n",
       "  <thead>\n",
       "    <tr style=\"text-align: right;\">\n",
       "      <th></th>\n",
       "      <th>RH_Measurement</th>\n",
       "      <th>PM_Measurement</th>\n",
       "      <th>AQS_Code</th>\n",
       "    </tr>\n",
       "    <tr>\n",
       "      <th>datetime</th>\n",
       "      <th></th>\n",
       "      <th></th>\n",
       "      <th></th>\n",
       "    </tr>\n",
       "  </thead>\n",
       "  <tbody>\n",
       "    <tr>\n",
       "      <th>2015-01-01 08:00:00</th>\n",
       "      <td>49.0</td>\n",
       "      <td>46.0</td>\n",
       "      <td>1103</td>\n",
       "    </tr>\n",
       "    <tr>\n",
       "      <th>2015-01-01 09:00:00</th>\n",
       "      <td>52.0</td>\n",
       "      <td>59.0</td>\n",
       "      <td>1103</td>\n",
       "    </tr>\n",
       "    <tr>\n",
       "      <th>2015-01-01 10:00:00</th>\n",
       "      <td>55.0</td>\n",
       "      <td>66.0</td>\n",
       "      <td>1103</td>\n",
       "    </tr>\n",
       "    <tr>\n",
       "      <th>2015-01-01 11:00:00</th>\n",
       "      <td>59.0</td>\n",
       "      <td>54.0</td>\n",
       "      <td>1103</td>\n",
       "    </tr>\n",
       "    <tr>\n",
       "      <th>2015-01-01 12:00:00</th>\n",
       "      <td>56.0</td>\n",
       "      <td>50.0</td>\n",
       "      <td>1103</td>\n",
       "    </tr>\n",
       "    <tr>\n",
       "      <th>...</th>\n",
       "      <td>...</td>\n",
       "      <td>...</td>\n",
       "      <td>...</td>\n",
       "    </tr>\n",
       "    <tr>\n",
       "      <th>2022-07-01 03:00:00</th>\n",
       "      <td>18.0</td>\n",
       "      <td>11.2</td>\n",
       "      <td>1201</td>\n",
       "    </tr>\n",
       "    <tr>\n",
       "      <th>2022-07-01 04:00:00</th>\n",
       "      <td>18.0</td>\n",
       "      <td>13.0</td>\n",
       "      <td>1201</td>\n",
       "    </tr>\n",
       "    <tr>\n",
       "      <th>2022-07-01 05:00:00</th>\n",
       "      <td>18.0</td>\n",
       "      <td>15.4</td>\n",
       "      <td>1201</td>\n",
       "    </tr>\n",
       "    <tr>\n",
       "      <th>2022-07-01 06:00:00</th>\n",
       "      <td>18.0</td>\n",
       "      <td>15.9</td>\n",
       "      <td>1201</td>\n",
       "    </tr>\n",
       "    <tr>\n",
       "      <th>2022-07-01 07:00:00</th>\n",
       "      <td>18.0</td>\n",
       "      <td>15.4</td>\n",
       "      <td>1201</td>\n",
       "    </tr>\n",
       "  </tbody>\n",
       "</table>\n",
       "<p>131424 rows × 3 columns</p>\n",
       "</div>"
      ],
      "text/plain": [
       "                     RH_Measurement  PM_Measurement  AQS_Code\n",
       "datetime                                                     \n",
       "2015-01-01 08:00:00            49.0            46.0      1103\n",
       "2015-01-01 09:00:00            52.0            59.0      1103\n",
       "2015-01-01 10:00:00            55.0            66.0      1103\n",
       "2015-01-01 11:00:00            59.0            54.0      1103\n",
       "2015-01-01 12:00:00            56.0            50.0      1103\n",
       "...                             ...             ...       ...\n",
       "2022-07-01 03:00:00            18.0            11.2      1201\n",
       "2022-07-01 04:00:00            18.0            13.0      1201\n",
       "2022-07-01 05:00:00            18.0            15.4      1201\n",
       "2022-07-01 06:00:00            18.0            15.9      1201\n",
       "2022-07-01 07:00:00            18.0            15.4      1201\n",
       "\n",
       "[131424 rows x 3 columns]"
      ]
     },
     "execution_count": 39,
     "metadata": {},
     "output_type": "execute_result"
    }
   ],
   "source": [
    "RH"
   ]
  },
  {
   "cell_type": "code",
   "execution_count": 40,
   "metadata": {},
   "outputs": [
    {
     "data": {
      "text/plain": [
       "0"
      ]
     },
     "execution_count": 40,
     "metadata": {},
     "output_type": "execute_result"
    }
   ],
   "source": [
    "sum(pd.isnull(RH['RH_Measurement']))\n",
    "# count_nan = len(RH) - RH.count()\n",
    "# print(count_nan)"
   ]
  },
  {
   "cell_type": "code",
   "execution_count": 1,
   "metadata": {},
   "outputs": [
    {
     "ename": "NameError",
     "evalue": "name 'RH' is not defined",
     "output_type": "error",
     "traceback": [
      "\u001b[1;31m---------------------------------------------------------------------------\u001b[0m",
      "\u001b[1;31mNameError\u001b[0m                                 Traceback (most recent call last)",
      "\u001b[1;32m<ipython-input-1-76c0744d00ac>\u001b[0m in \u001b[0;36m<module>\u001b[1;34m\u001b[0m\n\u001b[1;32m----> 1\u001b[1;33m \u001b[0mRH\u001b[0m\u001b[1;33m.\u001b[0m\u001b[0mto_csv\u001b[0m\u001b[1;33m(\u001b[0m\u001b[1;34m'RH.csv'\u001b[0m\u001b[1;33m)\u001b[0m\u001b[1;33m\u001b[0m\u001b[1;33m\u001b[0m\u001b[0m\n\u001b[0m",
      "\u001b[1;31mNameError\u001b[0m: name 'RH' is not defined"
     ]
    }
   ],
   "source": [
    "RH.to_csv('RH.csv')"
   ]
  },
  {
   "cell_type": "code",
   "execution_count": 2,
   "metadata": {},
   "outputs": [],
   "source": [
    "import pandas as pd\n",
    "RH=pd.read_csv('RH.csv')"
   ]
  },
  {
   "cell_type": "code",
   "execution_count": 8,
   "metadata": {},
   "outputs": [
    {
     "data": {
      "text/html": [
       "<div>\n",
       "<style scoped>\n",
       "    .dataframe tbody tr th:only-of-type {\n",
       "        vertical-align: middle;\n",
       "    }\n",
       "\n",
       "    .dataframe tbody tr th {\n",
       "        vertical-align: top;\n",
       "    }\n",
       "\n",
       "    .dataframe thead th {\n",
       "        text-align: right;\n",
       "    }\n",
       "</style>\n",
       "<table border=\"1\" class=\"dataframe\">\n",
       "  <thead>\n",
       "    <tr style=\"text-align: right;\">\n",
       "      <th></th>\n",
       "      <th>RH_Measurement</th>\n",
       "      <th>PM_Measurement</th>\n",
       "      <th>AQS_Code</th>\n",
       "    </tr>\n",
       "  </thead>\n",
       "  <tbody>\n",
       "    <tr>\n",
       "      <th>count</th>\n",
       "      <td>65712.000000</td>\n",
       "      <td>65712.000000</td>\n",
       "      <td>65712.0</td>\n",
       "    </tr>\n",
       "    <tr>\n",
       "      <th>mean</th>\n",
       "      <td>62.938063</td>\n",
       "      <td>15.358020</td>\n",
       "      <td>1103.0</td>\n",
       "    </tr>\n",
       "    <tr>\n",
       "      <th>std</th>\n",
       "      <td>23.283054</td>\n",
       "      <td>11.157344</td>\n",
       "      <td>0.0</td>\n",
       "    </tr>\n",
       "    <tr>\n",
       "      <th>min</th>\n",
       "      <td>1.000000</td>\n",
       "      <td>-6.000000</td>\n",
       "      <td>1103.0</td>\n",
       "    </tr>\n",
       "    <tr>\n",
       "      <th>25%</th>\n",
       "      <td>47.000000</td>\n",
       "      <td>9.000000</td>\n",
       "      <td>1103.0</td>\n",
       "    </tr>\n",
       "    <tr>\n",
       "      <th>50%</th>\n",
       "      <td>67.000000</td>\n",
       "      <td>14.000000</td>\n",
       "      <td>1103.0</td>\n",
       "    </tr>\n",
       "    <tr>\n",
       "      <th>75%</th>\n",
       "      <td>84.000000</td>\n",
       "      <td>19.000000</td>\n",
       "      <td>1103.0</td>\n",
       "    </tr>\n",
       "    <tr>\n",
       "      <th>max</th>\n",
       "      <td>100.000000</td>\n",
       "      <td>541.000000</td>\n",
       "      <td>1103.0</td>\n",
       "    </tr>\n",
       "  </tbody>\n",
       "</table>\n",
       "</div>"
      ],
      "text/plain": [
       "       RH_Measurement  PM_Measurement  AQS_Code\n",
       "count    65712.000000    65712.000000   65712.0\n",
       "mean        62.938063       15.358020    1103.0\n",
       "std         23.283054       11.157344       0.0\n",
       "min          1.000000       -6.000000    1103.0\n",
       "25%         47.000000        9.000000    1103.0\n",
       "50%         67.000000       14.000000    1103.0\n",
       "75%         84.000000       19.000000    1103.0\n",
       "max        100.000000      541.000000    1103.0"
      ]
     },
     "execution_count": 8,
     "metadata": {},
     "output_type": "execute_result"
    }
   ],
   "source": [
    "RH[RH['AQS_Code']==1103].describe()"
   ]
  },
  {
   "cell_type": "code",
   "execution_count": 9,
   "metadata": {},
   "outputs": [
    {
     "data": {
      "text/html": [
       "<div>\n",
       "<style scoped>\n",
       "    .dataframe tbody tr th:only-of-type {\n",
       "        vertical-align: middle;\n",
       "    }\n",
       "\n",
       "    .dataframe tbody tr th {\n",
       "        vertical-align: top;\n",
       "    }\n",
       "\n",
       "    .dataframe thead th {\n",
       "        text-align: right;\n",
       "    }\n",
       "</style>\n",
       "<table border=\"1\" class=\"dataframe\">\n",
       "  <thead>\n",
       "    <tr style=\"text-align: right;\">\n",
       "      <th></th>\n",
       "      <th>RH_Measurement</th>\n",
       "      <th>PM_Measurement</th>\n",
       "      <th>AQS_Code</th>\n",
       "    </tr>\n",
       "  </thead>\n",
       "  <tbody>\n",
       "    <tr>\n",
       "      <th>count</th>\n",
       "      <td>65712.000000</td>\n",
       "      <td>65712.000000</td>\n",
       "      <td>65712.0</td>\n",
       "    </tr>\n",
       "    <tr>\n",
       "      <th>mean</th>\n",
       "      <td>43.697962</td>\n",
       "      <td>14.506716</td>\n",
       "      <td>1201.0</td>\n",
       "    </tr>\n",
       "    <tr>\n",
       "      <th>std</th>\n",
       "      <td>21.002751</td>\n",
       "      <td>10.350917</td>\n",
       "      <td>0.0</td>\n",
       "    </tr>\n",
       "    <tr>\n",
       "      <th>min</th>\n",
       "      <td>1.000000</td>\n",
       "      <td>-3.700000</td>\n",
       "      <td>1201.0</td>\n",
       "    </tr>\n",
       "    <tr>\n",
       "      <th>25%</th>\n",
       "      <td>27.000000</td>\n",
       "      <td>8.300000</td>\n",
       "      <td>1201.0</td>\n",
       "    </tr>\n",
       "    <tr>\n",
       "      <th>50%</th>\n",
       "      <td>43.697962</td>\n",
       "      <td>12.800000</td>\n",
       "      <td>1201.0</td>\n",
       "    </tr>\n",
       "    <tr>\n",
       "      <th>75%</th>\n",
       "      <td>47.000000</td>\n",
       "      <td>19.100000</td>\n",
       "      <td>1201.0</td>\n",
       "    </tr>\n",
       "    <tr>\n",
       "      <th>max</th>\n",
       "      <td>100.000000</td>\n",
       "      <td>995.600000</td>\n",
       "      <td>1201.0</td>\n",
       "    </tr>\n",
       "  </tbody>\n",
       "</table>\n",
       "</div>"
      ],
      "text/plain": [
       "       RH_Measurement  PM_Measurement  AQS_Code\n",
       "count    65712.000000    65712.000000   65712.0\n",
       "mean        43.697962       14.506716    1201.0\n",
       "std         21.002751       10.350917       0.0\n",
       "min          1.000000       -3.700000    1201.0\n",
       "25%         27.000000        8.300000    1201.0\n",
       "50%         43.697962       12.800000    1201.0\n",
       "75%         47.000000       19.100000    1201.0\n",
       "max        100.000000      995.600000    1201.0"
      ]
     },
     "execution_count": 9,
     "metadata": {},
     "output_type": "execute_result"
    }
   ],
   "source": [
    "RH[RH['AQS_Code']==1201].describe()"
   ]
  },
  {
   "cell_type": "code",
   "execution_count": 4,
   "metadata": {},
   "outputs": [
    {
     "data": {
      "text/html": [
       "<div>\n",
       "<style scoped>\n",
       "    .dataframe tbody tr th:only-of-type {\n",
       "        vertical-align: middle;\n",
       "    }\n",
       "\n",
       "    .dataframe tbody tr th {\n",
       "        vertical-align: top;\n",
       "    }\n",
       "\n",
       "    .dataframe thead th {\n",
       "        text-align: right;\n",
       "    }\n",
       "</style>\n",
       "<table border=\"1\" class=\"dataframe\">\n",
       "  <thead>\n",
       "    <tr style=\"text-align: right;\">\n",
       "      <th></th>\n",
       "      <th>datetime</th>\n",
       "      <th>RH_Measurement</th>\n",
       "      <th>PM_Measurement</th>\n",
       "      <th>AQS_Code</th>\n",
       "    </tr>\n",
       "  </thead>\n",
       "  <tbody>\n",
       "    <tr>\n",
       "      <th>0</th>\n",
       "      <td>2015-01-01 08:00:00</td>\n",
       "      <td>49.000000</td>\n",
       "      <td>46.0</td>\n",
       "      <td>1103</td>\n",
       "    </tr>\n",
       "    <tr>\n",
       "      <th>65712</th>\n",
       "      <td>2015-01-01 08:00:00</td>\n",
       "      <td>43.697962</td>\n",
       "      <td>95.0</td>\n",
       "      <td>1201</td>\n",
       "    </tr>\n",
       "  </tbody>\n",
       "</table>\n",
       "</div>"
      ],
      "text/plain": [
       "                  datetime  RH_Measurement  PM_Measurement  AQS_Code\n",
       "0      2015-01-01 08:00:00       49.000000            46.0      1103\n",
       "65712  2015-01-01 08:00:00       43.697962            95.0      1201"
      ]
     },
     "execution_count": 4,
     "metadata": {},
     "output_type": "execute_result"
    }
   ],
   "source": [
    "RH[RH['datetime']=='2015-01-01 08:00:00']\n",
    "\n",
    "\n",
    "RH"
   ]
  }
 ],
 "metadata": {
  "kernelspec": {
   "display_name": "base",
   "language": "python",
   "name": "python3"
  },
  "language_info": {
   "codemirror_mode": {
    "name": "ipython",
    "version": 3
   },
   "file_extension": ".py",
   "mimetype": "text/x-python",
   "name": "python",
   "nbconvert_exporter": "python",
   "pygments_lexer": "ipython3",
   "version": "3.9.6"
  }
 },
 "nbformat": 4,
 "nbformat_minor": 2
}
