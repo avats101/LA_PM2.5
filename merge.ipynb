{
 "cells": [
  {
   "cell_type": "code",
   "execution_count": 78,
   "metadata": {},
   "outputs": [
    {
     "name": "stderr",
     "output_type": "stream",
     "text": [
      "C:\\Users\\avats\\AppData\\Roaming\\Python\\Python39\\site-packages\\IPython\\core\\interactiveshell.py:3441: DtypeWarning: Columns (17) have mixed types.Specify dtype option on import or set low_memory=False.\n",
      "  exec(code_obj, self.user_global_ns, self.user_ns)\n"
     ]
    }
   ],
   "source": [
    "import pandas as pd\n",
    "year=\"2016\" #change year here\n",
    "ozone= pd.read_csv(\"data/hourly_44201_\"+year+ \".csv\")\n",
    "SO2= pd.read_csv('data/hourly_42401_'+year+'.csv')\n",
    "CO= pd.read_csv('data/hourly_42101_'+year+'.csv')\n",
    "NO2= pd.read_csv('data/hourly_42602_'+year+'.csv')\n",
    "PM= pd.read_csv('data/hourly_88502_'+year+'.csv')\n",
    "RH= pd.read_csv('data/hourly_RH_DP_'+year+'.csv')\n",
    "Temp= pd.read_csv('data/hourly_Temp_'+year+'.csv')\n",
    "Wind= pd.read_csv('data/hourly_WIND_'+year+'.csv')\n",
    "\n",
    "#Ozone (44201) SO2 (42401) Wind (42101) NO2 (42602) PM2.5 (88502)"
   ]
  },
  {
   "cell_type": "code",
   "execution_count": 2,
   "metadata": {},
   "outputs": [],
   "source": [
    "dfs = {\n",
    "    'ozone':ozone,\n",
    "    'SO2':SO2,\n",
    "    'CO':CO,\n",
    "    'NO2':NO2,\n",
    "    'PM':PM,\n",
    "    'RH':RH,\n",
    "    'Temp':Temp,\n",
    "    'Wind':Wind\n",
    "    }"
   ]
  },
  {
   "cell_type": "code",
   "execution_count": 220,
   "metadata": {},
   "outputs": [],
   "source": [
    "for i in dfs:\n",
    "    \n",
    "    i_1103=dfs[i][['Date GMT','Time GMT','Sample Measurement']][(dfs[i]['Latitude']==34.06659)&(dfs[i]['Longitude']==-118.22688)]\n",
    "    i_1103.columns=['Date','Time',i]\n",
    "    i_1103['AQS_Code']= 1103\n",
    "    i_1602= dfs[i][['Date GMT','Time GMT','Sample Measurement']][(dfs[i]['Latitude']==34.01029)&(dfs[i]['Longitude']==-118.06850)] \n",
    "    i_1602.columns=['Date','Time',i]\n",
    "    i_1602['AQS_Code']= 1602\n",
    "    i_2005= dfs[i][['Date GMT','Time GMT','Sample Measurement']][(dfs[i]['Latitude']==34.13260)&(dfs[i]['Longitude']==-118.12720)] \n",
    "    i_2005.columns=['Date','Time',i]\n",
    "    i_2005['AQS_Code']= 2005\n",
    "    i_1201= dfs[i][['Date GMT','Time GMT','Sample Measurement']][(dfs[i]['Latitude']==34.19925)&(dfs[i]['Longitude']==-118.53276)] \n",
    "    i_1201.columns=['Date','Time',i]\n",
    "    i_1201['AQS_Code']= 1201\n",
    "    dfs[i]=pd.concat([i_1103,i_1602,i_2005,i_1201])\n",
    "    "
   ]
  },
  {
   "cell_type": "code",
   "execution_count": 224,
   "metadata": {},
   "outputs": [],
   "source": [
    "import functools\n",
    "df = functools.reduce(lambda left, right: pd.merge(left,right,on=[\"Date\",\"Time\",\"AQS_Code\"]), dfs.values())"
   ]
  },
  {
   "cell_type": "code",
   "execution_count": 225,
   "metadata": {},
   "outputs": [],
   "source": [
    "df.to_csv(year+'.csv')"
   ]
  },
  {
   "cell_type": "code",
   "execution_count": 51,
   "metadata": {},
   "outputs": [
    {
     "name": "stdout",
     "output_type": "stream",
     "text": [
      "              Date   Time     CO  AQS_Code\n",
      "323316  2016-11-01  20:00  0.300      1103\n",
      "330701  2016-11-01  20:00  0.259      1103\n"
     ]
    }
   ],
   "source": [
    "print(dfs['CO'].loc[  (dfs['CO']['AQS_Code']==1103)&(dfs['CO']['Date']=='2016-11-01')&(dfs['CO']['Time']=='20:00') ])\n"
   ]
  },
  {
   "cell_type": "code",
   "execution_count": 77,
   "metadata": {},
   "outputs": [
    {
     "name": "stdout",
     "output_type": "stream",
     "text": [
      "Index(['State Code', 'County Code', 'Site Num', 'Parameter Code', 'POC',\n",
      "       'Latitude', 'Longitude', 'Datum', 'Parameter Name', 'Date Local',\n",
      "       'Time Local', 'Date GMT', 'Time GMT', 'Sample Measurement',\n",
      "       'Units of Measure', 'MDL', 'Uncertainty', 'Qualifier', 'Method Type',\n",
      "       'Method Code', 'Method Name', 'State Name', 'County Name',\n",
      "       'Date of Last Change'],\n",
      "      dtype='object')\n"
     ]
    }
   ],
   "source": [
    "print(CO.columns)"
   ]
  },
  {
   "cell_type": "code",
   "execution_count": 95,
   "metadata": {},
   "outputs": [
    {
     "name": "stderr",
     "output_type": "stream",
     "text": [
      "C:\\Users\\avats\\AppData\\Roaming\\Python\\Python39\\site-packages\\IPython\\core\\interactiveshell.py:3441: DtypeWarning: Columns (17) have mixed types.Specify dtype option on import or set low_memory=False.\n",
      "  exec(code_obj, self.user_global_ns, self.user_ns)\n"
     ]
    }
   ],
   "source": [
    "import pandas as pd\n",
    "year=\"2016\" #change year here\n",
    "ozone= pd.read_csv(\"hourly_44201_\"+year+ \".csv\")\n",
    "SO2= pd.read_csv('hourly_42401_'+year+'.csv')\n",
    "CO= pd.read_csv('hourly_42101_'+year+'.csv')\n",
    "NO2= pd.read_csv('hourly_42602_'+year+'.csv')\n",
    "PM= pd.read_csv('hourly_88502_'+year+'.csv')\n",
    "RH= pd.read_csv('hourly_RH_DP_'+year+'.csv')\n",
    "Temp= pd.read_csv('hourly_Temp_'+year+'.csv')\n",
    "Wind= pd.read_csv('hourly_WIND_'+year+'.csv')\n",
    "\n",
    "#Ozone (44201) SO2 (42401) Wind (42101) NO2 (42602) PM2.5 (88502)"
   ]
  },
  {
   "cell_type": "code",
   "execution_count": 96,
   "metadata": {},
   "outputs": [],
   "source": [
    "dfs = {\n",
    "    'ozone':ozone,\n",
    "    'SO2':SO2,\n",
    "    'CO':CO,\n",
    "    'NO2':NO2,\n",
    "    'PM':PM,\n",
    "    'RH':RH,\n",
    "    'Temp':Temp,\n",
    "    'Wind':Wind\n",
    "    }"
   ]
  },
  {
   "cell_type": "code",
   "execution_count": 103,
   "metadata": {},
   "outputs": [
    {
     "name": "stdout",
     "output_type": "stream",
     "text": [
      "ozone\n",
      "(8268, 24)\n",
      "INSTRUMENTAL - ULTRA VIOLET ABSORPTION    8268\n",
      "Name: Method Name, dtype: int64\n",
      "(8183, 24)\n",
      "INSTRUMENTAL - ULTRA VIOLET    8183\n",
      "Name: Method Name, dtype: int64\n",
      "(8093, 24)\n",
      "INSTRUMENTAL - ULTRA VIOLET ABSORPTION    8093\n",
      "Name: Method Name, dtype: int64\n",
      "(8287, 24)\n",
      "INSTRUMENTAL - ULTRA VIOLET ABSORPTION    8287\n",
      "Name: Method Name, dtype: int64\n",
      "----------------------------------------------------------\n",
      "SO2\n",
      "(8687, 24)\n",
      "INSTRUMENTAL - Pulsed Fluorescent 43C-TLE/43i-TLE    8687\n",
      "Name: Method Name, dtype: int64\n",
      "(0, 24)\n",
      "Series([], Name: Method Name, dtype: int64)\n",
      "(0, 24)\n",
      "Series([], Name: Method Name, dtype: int64)\n",
      "(0, 24)\n",
      "Series([], Name: Method Name, dtype: int64)\n",
      "----------------------------------------------------------\n",
      "CO\n",
      "(15663, 24)\n",
      "INSTRUMENTAL - NONDISPERSIVE INFRARED PHOTOMETRY             8079\n",
      "INSTRUMENTAL - Gas Filter Correlation Teledyne API 300 EU    7584\n",
      "Name: Method Name, dtype: int64\n",
      "(8346, 24)\n",
      "INSTRUMENTAL - NONDISPERSIVE INFRARED PHOTOMETRY    8346\n",
      "Name: Method Name, dtype: int64\n",
      "(8278, 24)\n",
      "INSTRUMENTAL - NONDISPERSIVE INFRARED PHOTOMETRY    8278\n",
      "Name: Method Name, dtype: int64\n",
      "(8287, 24)\n",
      "INSTRUMENTAL - NONDISPERSIVE INFRARED PHOTOMETRY    8287\n",
      "Name: Method Name, dtype: int64\n",
      "----------------------------------------------------------\n",
      "NO2\n",
      "(8308, 24)\n",
      "INSTRUMENTAL - CHEMILUMINESCENCE    8308\n",
      "Name: Method Name, dtype: int64\n",
      "(8214, 24)\n",
      "INSTRUMENTAL - CHEMILUMINESCENCE    8214\n",
      "Name: Method Name, dtype: int64\n",
      "(8281, 24)\n",
      "INSTRUMENTAL - CHEMILUMINESCENCE    8281\n",
      "Name: Method Name, dtype: int64\n",
      "(8021, 24)\n",
      "INSTRUMENTAL - CHEMILUMINESCENCE    8021\n",
      "Name: Method Name, dtype: int64\n",
      "----------------------------------------------------------\n",
      "PM\n",
      "(8262, 24)\n",
      "Met-one BAM-1020 W/PM2.5 SCC - Beta Attenuation    8262\n",
      "Name: Method Name, dtype: int64\n",
      "(0, 24)\n",
      "Series([], Name: Method Name, dtype: int64)\n",
      "(0, 24)\n",
      "Series([], Name: Method Name, dtype: int64)\n",
      "(8539, 24)\n",
      "Met-One BAM-1020 W/PM2.5 SCC - Beta Attenuation    8539\n",
      "Name: Method Name, dtype: int64\n",
      "----------------------------------------------------------\n",
      "RH\n",
      "(8776, 24)\n",
      "Instrumental - Rotronic HC2-S3    8776\n",
      "Name: Method Name, dtype: int64\n",
      "(8774, 24)\n",
      "Instrumental - Met One 083D    8774\n",
      "Name: Method Name, dtype: int64\n",
      "(0, 24)\n",
      "Series([], Name: Method Name, dtype: int64)\n",
      "(0, 24)\n",
      "Series([], Name: Method Name, dtype: int64)\n",
      "----------------------------------------------------------\n",
      "Temp\n",
      "(8776, 24)\n",
      "Instrumental - Met One 083D    8776\n",
      "Name: Method Name, dtype: int64\n",
      "(8777, 24)\n",
      "Instrumental - Met One 083D    8777\n",
      "Name: Method Name, dtype: int64\n",
      "(0, 24)\n",
      "Series([], Name: Method Name, dtype: int64)\n",
      "(0, 24)\n",
      "Series([], Name: Method Name, dtype: int64)\n",
      "----------------------------------------------------------\n",
      "Wind\n",
      "(13184, 24)\n",
      "Instrumental - RM Young Model 05305    13184\n",
      "Name: Method Name, dtype: int64\n",
      "(8808, 24)\n",
      "INSTRUMENTAL - VECTOR SUMMATION    8808\n",
      "Name: Method Name, dtype: int64\n",
      "(8784, 24)\n",
      "INSTRUMENTAL - VECTOR SUMMATION    8784\n",
      "Name: Method Name, dtype: int64\n",
      "(8832, 24)\n",
      "INSTRUMENTAL - VECTOR SUMMATION    8832\n",
      "Name: Method Name, dtype: int64\n",
      "----------------------------------------------------------\n"
     ]
    }
   ],
   "source": [
    "for i in dfs:\n",
    "    i_1103=dfs[i].loc[(dfs[i]['Latitude']==34.06659)&(dfs[i]['Longitude']==-118.22688)]\n",
    "\n",
    "    i_1602=dfs[i].loc[(dfs[i]['Latitude']==34.01029)&(dfs[i]['Longitude']==-118.06850)]\n",
    "\n",
    "    i_2005=dfs[i].loc[(dfs[i]['Latitude']==34.13260)&(dfs[i]['Longitude']==-118.12720)]\n",
    "\n",
    "    i_1201=dfs[i].loc[(dfs[i]['Latitude']==34.19925)&(dfs[i]['Longitude']==-118.53276)] \n",
    "    print(i)\n",
    "    print(i_1103.shape)\n",
    "    print(i_1103['Method Name'].value_counts())\n",
    "\n",
    "    print(i_1602.shape)\n",
    "    print(i_1602['Method Name'].value_counts())\n",
    "\n",
    "    print(i_2005.shape)\n",
    "    print(i_2005['Method Name'].value_counts())\n",
    "\n",
    "    print(i_1201.shape)\n",
    "    print(i_1201['Method Name'].value_counts())\n",
    "    print(\"----------------------------------------------------------\")"
   ]
  },
  {
   "cell_type": "code",
   "execution_count": 87,
   "metadata": {},
   "outputs": [],
   "source": [
    "CO= pd.read_csv('hourly_42101_'+year+'.csv')\n",
    "# print(CO[[\"Time GMT\",\"Date GMT\", \"Sample Measurement\"]].loc[(CO['Latitude']==34.06659)&(CO['Longitude']==-118.22688)&(CO['Date GMT']=='2016-11-01')&(CO['Time GMT']=='20:00')])\n",
    "#CO.loc[(CO['Latitude']==34.06659)&(CO['Longitude']==-118.22688)&(CO['Date GMT']=='2016-11-01')&(CO['Time GMT']=='20:00')]\n",
    "CO_1103=CO.loc[(CO['Latitude']==34.06659)&(CO['Longitude']==-118.22688)]\n",
    "\n",
    "CO_1602=CO.loc[(CO['Latitude']==34.01029)&(CO['Longitude']==-118.06850)]\n",
    "\n",
    "CO_2005=CO.loc[(CO['Latitude']==34.13260)&(CO['Longitude']==-118.12720)]\n",
    "\n",
    "CO_1201=CO.loc[(CO['Latitude']==34.19925)&(CO['Longitude']==-118.53276)]\n",
    "\n",
    "\n"
   ]
  },
  {
   "cell_type": "code",
   "execution_count": 88,
   "metadata": {},
   "outputs": [
    {
     "data": {
      "text/plain": [
       "INSTRUMENTAL - NONDISPERSIVE INFRARED PHOTOMETRY             8079\n",
       "INSTRUMENTAL - Gas Filter Correlation Teledyne API 300 EU    7584\n",
       "Name: Method Name, dtype: int64"
      ]
     },
     "execution_count": 88,
     "metadata": {},
     "output_type": "execute_result"
    }
   ],
   "source": [
    "CO_1103['Method Name'].value_counts()"
   ]
  },
  {
   "cell_type": "code",
   "execution_count": 89,
   "metadata": {},
   "outputs": [
    {
     "data": {
      "text/plain": [
       "INSTRUMENTAL - NONDISPERSIVE INFRARED PHOTOMETRY    8346\n",
       "Name: Method Name, dtype: int64"
      ]
     },
     "execution_count": 89,
     "metadata": {},
     "output_type": "execute_result"
    }
   ],
   "source": [
    "CO_1602['Method Name'].value_counts()"
   ]
  },
  {
   "cell_type": "code",
   "execution_count": 90,
   "metadata": {},
   "outputs": [
    {
     "data": {
      "text/plain": [
       "INSTRUMENTAL - NONDISPERSIVE INFRARED PHOTOMETRY    8278\n",
       "Name: Method Name, dtype: int64"
      ]
     },
     "execution_count": 90,
     "metadata": {},
     "output_type": "execute_result"
    }
   ],
   "source": [
    "CO_2005['Method Name'].value_counts()"
   ]
  },
  {
   "cell_type": "code",
   "execution_count": 91,
   "metadata": {},
   "outputs": [
    {
     "data": {
      "text/plain": [
       "INSTRUMENTAL - NONDISPERSIVE INFRARED PHOTOMETRY    8287\n",
       "Name: Method Name, dtype: int64"
      ]
     },
     "execution_count": 91,
     "metadata": {},
     "output_type": "execute_result"
    }
   ],
   "source": [
    "CO_1201['Method Name'].value_counts()"
   ]
  },
  {
   "cell_type": "code",
   "execution_count": 55,
   "metadata": {},
   "outputs": [
    {
     "name": "stdout",
     "output_type": "stream",
     "text": [
      "               Date   Time   Wind  AQS_Code\n",
      "1540403  2016-11-01  20:00    2.9      1103\n",
      "1546995  2016-11-01  20:00  245.0      1103\n"
     ]
    }
   ],
   "source": [
    "print(dfs['Wind'].loc[  (dfs['Wind']['AQS_Code']==1103)&(dfs['Wind']['Date']=='2016-11-01')&(dfs['Wind']['Time']=='20:00') ])\n"
   ]
  },
  {
   "cell_type": "code",
   "execution_count": 56,
   "metadata": {},
   "outputs": [
    {
     "name": "stderr",
     "output_type": "stream",
     "text": [
      "C:\\Users\\avats\\AppData\\Roaming\\Python\\Python39\\site-packages\\IPython\\core\\interactiveshell.py:3441: DtypeWarning: Columns (17) have mixed types.Specify dtype option on import or set low_memory=False.\n",
      "  exec(code_obj, self.user_global_ns, self.user_ns)\n"
     ]
    },
    {
     "data": {
      "text/html": [
       "<div>\n",
       "<style scoped>\n",
       "    .dataframe tbody tr th:only-of-type {\n",
       "        vertical-align: middle;\n",
       "    }\n",
       "\n",
       "    .dataframe tbody tr th {\n",
       "        vertical-align: top;\n",
       "    }\n",
       "\n",
       "    .dataframe thead th {\n",
       "        text-align: right;\n",
       "    }\n",
       "</style>\n",
       "<table border=\"1\" class=\"dataframe\">\n",
       "  <thead>\n",
       "    <tr style=\"text-align: right;\">\n",
       "      <th></th>\n",
       "      <th>State Code</th>\n",
       "      <th>County Code</th>\n",
       "      <th>Site Num</th>\n",
       "      <th>Parameter Code</th>\n",
       "      <th>POC</th>\n",
       "      <th>Latitude</th>\n",
       "      <th>Longitude</th>\n",
       "      <th>Datum</th>\n",
       "      <th>Parameter Name</th>\n",
       "      <th>Date Local</th>\n",
       "      <th>...</th>\n",
       "      <th>Units of Measure</th>\n",
       "      <th>MDL</th>\n",
       "      <th>Uncertainty</th>\n",
       "      <th>Qualifier</th>\n",
       "      <th>Method Type</th>\n",
       "      <th>Method Code</th>\n",
       "      <th>Method Name</th>\n",
       "      <th>State Name</th>\n",
       "      <th>County Name</th>\n",
       "      <th>Date of Last Change</th>\n",
       "    </tr>\n",
       "  </thead>\n",
       "  <tbody>\n",
       "    <tr>\n",
       "      <th>323316</th>\n",
       "      <td>6</td>\n",
       "      <td>37</td>\n",
       "      <td>1103</td>\n",
       "      <td>42101</td>\n",
       "      <td>1</td>\n",
       "      <td>34.06659</td>\n",
       "      <td>-118.22688</td>\n",
       "      <td>WGS84</td>\n",
       "      <td>Carbon monoxide</td>\n",
       "      <td>2016-11-01</td>\n",
       "      <td>...</td>\n",
       "      <td>Parts per million</td>\n",
       "      <td>0.50</td>\n",
       "      <td>NaN</td>\n",
       "      <td>NaN</td>\n",
       "      <td>FRM</td>\n",
       "      <td>158</td>\n",
       "      <td>INSTRUMENTAL - NONDISPERSIVE INFRARED PHOTOMETRY</td>\n",
       "      <td>California</td>\n",
       "      <td>Los Angeles</td>\n",
       "      <td>2017-03-22</td>\n",
       "    </tr>\n",
       "    <tr>\n",
       "      <th>330701</th>\n",
       "      <td>6</td>\n",
       "      <td>37</td>\n",
       "      <td>1103</td>\n",
       "      <td>42101</td>\n",
       "      <td>9</td>\n",
       "      <td>34.06659</td>\n",
       "      <td>-118.22688</td>\n",
       "      <td>WGS84</td>\n",
       "      <td>Carbon monoxide</td>\n",
       "      <td>2016-11-01</td>\n",
       "      <td>...</td>\n",
       "      <td>Parts per million</td>\n",
       "      <td>0.02</td>\n",
       "      <td>NaN</td>\n",
       "      <td>NaN</td>\n",
       "      <td>FRM</td>\n",
       "      <td>593</td>\n",
       "      <td>INSTRUMENTAL - Gas Filter Correlation Teledyne...</td>\n",
       "      <td>California</td>\n",
       "      <td>Los Angeles</td>\n",
       "      <td>2017-02-16</td>\n",
       "    </tr>\n",
       "  </tbody>\n",
       "</table>\n",
       "<p>2 rows × 24 columns</p>\n",
       "</div>"
      ],
      "text/plain": [
       "        State Code  County Code  Site Num  Parameter Code  POC  Latitude  \\\n",
       "323316           6           37      1103           42101    1  34.06659   \n",
       "330701           6           37      1103           42101    9  34.06659   \n",
       "\n",
       "        Longitude  Datum   Parameter Name  Date Local  ...   Units of Measure  \\\n",
       "323316 -118.22688  WGS84  Carbon monoxide  2016-11-01  ...  Parts per million   \n",
       "330701 -118.22688  WGS84  Carbon monoxide  2016-11-01  ...  Parts per million   \n",
       "\n",
       "         MDL Uncertainty  Qualifier Method Type  Method Code  \\\n",
       "323316  0.50         NaN        NaN         FRM          158   \n",
       "330701  0.02         NaN        NaN         FRM          593   \n",
       "\n",
       "                                              Method Name  State Name  \\\n",
       "323316   INSTRUMENTAL - NONDISPERSIVE INFRARED PHOTOMETRY  California   \n",
       "330701  INSTRUMENTAL - Gas Filter Correlation Teledyne...  California   \n",
       "\n",
       "        County Name  Date of Last Change  \n",
       "323316  Los Angeles           2017-03-22  \n",
       "330701  Los Angeles           2017-02-16  \n",
       "\n",
       "[2 rows x 24 columns]"
      ]
     },
     "execution_count": 56,
     "metadata": {},
     "output_type": "execute_result"
    }
   ],
   "source": [
    "#Wind= pd.read_csv('hourly_42101_'+year+'.csv')\n",
    "#print(Wind[[\"Time GMT\",\"Date GMT\", \"Sample Measurement\"]].loc[(Wind['Latitude']==34.06659)&(Wind['Longitude']==-118.22688)&(Wind['Date GMT']=='2016-11-01')&(Wind['Time GMT']=='20:00')])\n",
    "Wind.loc[(Wind['Latitude']==34.06659)&(Wind['Longitude']==-118.22688)&(Wind['Date GMT']=='2016-11-01')&(Wind['Time GMT']=='20:00')]"
   ]
  },
  {
   "cell_type": "code",
   "execution_count": 71,
   "metadata": {},
   "outputs": [
    {
     "data": {
      "text/plain": [
       "INSTRUMENTAL - GAS FILTER CORRELATION CO ANALYZER                       602498\n",
       "INSTRUMENTAL - NONDISPERSIVE INFRARED                                   594902\n",
       "INSTRUMENTAL - Gas Filter Correlation Teledyne API 300 EU               529784\n",
       "INSTRUMENTAL - Gas Filter Correlation Thermo Electron 48i-TLE           420112\n",
       "INSTRUMENTAL - NONDISPERSIVE INFRARED PHOTOMETRY                        194122\n",
       "INSTRUMENTAL - Gas Filter Correlation Ecotech EC9830T                    45354\n",
       "LGR (Los GAtos Research - Off-Axis ICOS Cavity Ringdown Spectroscopy     28518\n",
       "INSTRUMENTAL - Gas Filter Correlation Thermo Electron 48C-TL              8323\n",
       "Name: Method Name, dtype: int64"
      ]
     },
     "execution_count": 71,
     "metadata": {},
     "output_type": "execute_result"
    }
   ],
   "source": [
    "Wind['Method Name'].value_counts()"
   ]
  }
 ],
 "metadata": {
  "kernelspec": {
   "display_name": "Python 3",
   "language": "python",
   "name": "python3"
  },
  "language_info": {
   "codemirror_mode": {
    "name": "ipython",
    "version": 3
   },
   "file_extension": ".py",
   "mimetype": "text/x-python",
   "name": "python",
   "nbconvert_exporter": "python",
   "pygments_lexer": "ipython3",
   "version": "3.9.6"
  }
 },
 "nbformat": 4,
 "nbformat_minor": 2
}
